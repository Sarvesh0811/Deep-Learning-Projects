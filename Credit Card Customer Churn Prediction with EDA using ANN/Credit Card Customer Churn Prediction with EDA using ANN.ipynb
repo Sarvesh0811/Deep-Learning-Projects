{
 "cells": [
  {
   "cell_type": "code",
   "execution_count": 1,
   "id": "5b8a5134",
   "metadata": {
    "_cell_guid": "b1076dfc-b9ad-4769-8c92-a6c4dae69d19",
    "_uuid": "8f2839f25d086af736a60e9eeb907d3b93b6e0e5",
    "execution": {
     "iopub.execute_input": "2025-01-20T13:45:25.931885Z",
     "iopub.status.busy": "2025-01-20T13:45:25.931509Z",
     "iopub.status.idle": "2025-01-20T13:45:26.944076Z",
     "shell.execute_reply": "2025-01-20T13:45:26.942944Z"
    },
    "papermill": {
     "duration": 1.024773,
     "end_time": "2025-01-20T13:45:26.945906",
     "exception": false,
     "start_time": "2025-01-20T13:45:25.921133",
     "status": "completed"
    },
    "tags": []
   },
   "outputs": [
    {
     "name": "stdout",
     "output_type": "stream",
     "text": [
      "/kaggle/input/credit-card-customer-churn-prediction/Churn_Modelling.csv\n"
     ]
    }
   ],
   "source": [
    "# This Python 3 environment comes with many helpful analytics libraries installed\n",
    "# It is defined by the kaggle/python Docker image: https://github.com/kaggle/docker-python\n",
    "# For example, here's several helpful packages to load\n",
    "\n",
    "import numpy as np # linear algebra\n",
    "import pandas as pd # data processing, CSV file I/O (e.g. pd.read_csv)\n",
    "\n",
    "# Input data files are available in the read-only \"../input/\" directory\n",
    "# For example, running this (by clicking run or pressing Shift+Enter) will list all files under the input directory\n",
    "\n",
    "import os\n",
    "for dirname, _, filenames in os.walk('/kaggle/input'):\n",
    "    for filename in filenames:\n",
    "        print(os.path.join(dirname, filename))\n",
    "\n",
    "# You can write up to 20GB to the current directory (/kaggle/working/) that gets preserved as output when you create a version using \"Save & Run All\" \n",
    "# You can also write temporary files to /kaggle/temp/, but they won't be saved outside of the current session"
   ]
  },
  {
   "cell_type": "code",
   "execution_count": 2,
   "id": "a5ce3fe8",
   "metadata": {
    "execution": {
     "iopub.execute_input": "2025-01-20T13:45:26.962727Z",
     "iopub.status.busy": "2025-01-20T13:45:26.962204Z",
     "iopub.status.idle": "2025-01-20T13:45:45.325639Z",
     "shell.execute_reply": "2025-01-20T13:45:45.324607Z"
    },
    "papermill": {
     "duration": 18.373809,
     "end_time": "2025-01-20T13:45:45.327666",
     "exception": false,
     "start_time": "2025-01-20T13:45:26.953857",
     "status": "completed"
    },
    "tags": []
   },
   "outputs": [],
   "source": [
    "import numpy as np\n",
    "import pandas as pd\n",
    "\n",
    "import matplotlib.pyplot as plt\n",
    "import seaborn as sns\n",
    "\n",
    "from sklearn.model_selection import train_test_split\n",
    "from sklearn.preprocessing import MinMaxScaler\n",
    "\n",
    "import tensorflow\n",
    "from tensorflow import keras\n",
    "from tensorflow.keras.layers import Dense\n",
    "from tensorflow.keras import Sequential\n",
    "\n",
    "import warnings\n",
    "warnings.filterwarnings('ignore')"
   ]
  },
  {
   "cell_type": "code",
   "execution_count": 3,
   "id": "286f9e80",
   "metadata": {
    "execution": {
     "iopub.execute_input": "2025-01-20T13:45:45.344523Z",
     "iopub.status.busy": "2025-01-20T13:45:45.343885Z",
     "iopub.status.idle": "2025-01-20T13:45:45.415362Z",
     "shell.execute_reply": "2025-01-20T13:45:45.414283Z"
    },
    "papermill": {
     "duration": 0.081626,
     "end_time": "2025-01-20T13:45:45.417184",
     "exception": false,
     "start_time": "2025-01-20T13:45:45.335558",
     "status": "completed"
    },
    "tags": []
   },
   "outputs": [
    {
     "data": {
      "text/html": [
       "<div>\n",
       "<style scoped>\n",
       "    .dataframe tbody tr th:only-of-type {\n",
       "        vertical-align: middle;\n",
       "    }\n",
       "\n",
       "    .dataframe tbody tr th {\n",
       "        vertical-align: top;\n",
       "    }\n",
       "\n",
       "    .dataframe thead th {\n",
       "        text-align: right;\n",
       "    }\n",
       "</style>\n",
       "<table border=\"1\" class=\"dataframe\">\n",
       "  <thead>\n",
       "    <tr style=\"text-align: right;\">\n",
       "      <th></th>\n",
       "      <th>RowNumber</th>\n",
       "      <th>CustomerId</th>\n",
       "      <th>Surname</th>\n",
       "      <th>CreditScore</th>\n",
       "      <th>Geography</th>\n",
       "      <th>Gender</th>\n",
       "      <th>Age</th>\n",
       "      <th>Tenure</th>\n",
       "      <th>Balance</th>\n",
       "      <th>NumOfProducts</th>\n",
       "      <th>HasCrCard</th>\n",
       "      <th>IsActiveMember</th>\n",
       "      <th>EstimatedSalary</th>\n",
       "      <th>Exited</th>\n",
       "    </tr>\n",
       "  </thead>\n",
       "  <tbody>\n",
       "    <tr>\n",
       "      <th>0</th>\n",
       "      <td>1</td>\n",
       "      <td>15634602</td>\n",
       "      <td>Hargrave</td>\n",
       "      <td>619</td>\n",
       "      <td>France</td>\n",
       "      <td>Female</td>\n",
       "      <td>42</td>\n",
       "      <td>2</td>\n",
       "      <td>0.00</td>\n",
       "      <td>1</td>\n",
       "      <td>1</td>\n",
       "      <td>1</td>\n",
       "      <td>101348.88</td>\n",
       "      <td>1</td>\n",
       "    </tr>\n",
       "    <tr>\n",
       "      <th>1</th>\n",
       "      <td>2</td>\n",
       "      <td>15647311</td>\n",
       "      <td>Hill</td>\n",
       "      <td>608</td>\n",
       "      <td>Spain</td>\n",
       "      <td>Female</td>\n",
       "      <td>41</td>\n",
       "      <td>1</td>\n",
       "      <td>83807.86</td>\n",
       "      <td>1</td>\n",
       "      <td>0</td>\n",
       "      <td>1</td>\n",
       "      <td>112542.58</td>\n",
       "      <td>0</td>\n",
       "    </tr>\n",
       "    <tr>\n",
       "      <th>2</th>\n",
       "      <td>3</td>\n",
       "      <td>15619304</td>\n",
       "      <td>Onio</td>\n",
       "      <td>502</td>\n",
       "      <td>France</td>\n",
       "      <td>Female</td>\n",
       "      <td>42</td>\n",
       "      <td>8</td>\n",
       "      <td>159660.80</td>\n",
       "      <td>3</td>\n",
       "      <td>1</td>\n",
       "      <td>0</td>\n",
       "      <td>113931.57</td>\n",
       "      <td>1</td>\n",
       "    </tr>\n",
       "    <tr>\n",
       "      <th>3</th>\n",
       "      <td>4</td>\n",
       "      <td>15701354</td>\n",
       "      <td>Boni</td>\n",
       "      <td>699</td>\n",
       "      <td>France</td>\n",
       "      <td>Female</td>\n",
       "      <td>39</td>\n",
       "      <td>1</td>\n",
       "      <td>0.00</td>\n",
       "      <td>2</td>\n",
       "      <td>0</td>\n",
       "      <td>0</td>\n",
       "      <td>93826.63</td>\n",
       "      <td>0</td>\n",
       "    </tr>\n",
       "    <tr>\n",
       "      <th>4</th>\n",
       "      <td>5</td>\n",
       "      <td>15737888</td>\n",
       "      <td>Mitchell</td>\n",
       "      <td>850</td>\n",
       "      <td>Spain</td>\n",
       "      <td>Female</td>\n",
       "      <td>43</td>\n",
       "      <td>2</td>\n",
       "      <td>125510.82</td>\n",
       "      <td>1</td>\n",
       "      <td>1</td>\n",
       "      <td>1</td>\n",
       "      <td>79084.10</td>\n",
       "      <td>0</td>\n",
       "    </tr>\n",
       "  </tbody>\n",
       "</table>\n",
       "</div>"
      ],
      "text/plain": [
       "   RowNumber  CustomerId   Surname  CreditScore Geography  Gender  Age  \\\n",
       "0          1    15634602  Hargrave          619    France  Female   42   \n",
       "1          2    15647311      Hill          608     Spain  Female   41   \n",
       "2          3    15619304      Onio          502    France  Female   42   \n",
       "3          4    15701354      Boni          699    France  Female   39   \n",
       "4          5    15737888  Mitchell          850     Spain  Female   43   \n",
       "\n",
       "   Tenure    Balance  NumOfProducts  HasCrCard  IsActiveMember  \\\n",
       "0       2       0.00              1          1               1   \n",
       "1       1   83807.86              1          0               1   \n",
       "2       8  159660.80              3          1               0   \n",
       "3       1       0.00              2          0               0   \n",
       "4       2  125510.82              1          1               1   \n",
       "\n",
       "   EstimatedSalary  Exited  \n",
       "0        101348.88       1  \n",
       "1        112542.58       0  \n",
       "2        113931.57       1  \n",
       "3         93826.63       0  \n",
       "4         79084.10       0  "
      ]
     },
     "execution_count": 3,
     "metadata": {},
     "output_type": "execute_result"
    }
   ],
   "source": [
    "df = pd.read_csv(r'/kaggle/input/credit-card-customer-churn-prediction/Churn_Modelling.csv')\n",
    "df.head()"
   ]
  },
  {
   "cell_type": "code",
   "execution_count": 4,
   "id": "5337dfcc",
   "metadata": {
    "execution": {
     "iopub.execute_input": "2025-01-20T13:45:45.434712Z",
     "iopub.status.busy": "2025-01-20T13:45:45.434322Z",
     "iopub.status.idle": "2025-01-20T13:45:45.439970Z",
     "shell.execute_reply": "2025-01-20T13:45:45.439149Z"
    },
    "papermill": {
     "duration": 0.016154,
     "end_time": "2025-01-20T13:45:45.441355",
     "exception": false,
     "start_time": "2025-01-20T13:45:45.425201",
     "status": "completed"
    },
    "tags": []
   },
   "outputs": [
    {
     "data": {
      "text/plain": [
       "(10000, 14)"
      ]
     },
     "execution_count": 4,
     "metadata": {},
     "output_type": "execute_result"
    }
   ],
   "source": [
    "df.shape"
   ]
  },
  {
   "cell_type": "code",
   "execution_count": 5,
   "id": "b339c121",
   "metadata": {
    "execution": {
     "iopub.execute_input": "2025-01-20T13:45:45.458340Z",
     "iopub.status.busy": "2025-01-20T13:45:45.457989Z",
     "iopub.status.idle": "2025-01-20T13:45:45.487348Z",
     "shell.execute_reply": "2025-01-20T13:45:45.486055Z"
    },
    "papermill": {
     "duration": 0.039807,
     "end_time": "2025-01-20T13:45:45.489101",
     "exception": false,
     "start_time": "2025-01-20T13:45:45.449294",
     "status": "completed"
    },
    "tags": []
   },
   "outputs": [
    {
     "name": "stdout",
     "output_type": "stream",
     "text": [
      "<class 'pandas.core.frame.DataFrame'>\n",
      "RangeIndex: 10000 entries, 0 to 9999\n",
      "Data columns (total 14 columns):\n",
      " #   Column           Non-Null Count  Dtype  \n",
      "---  ------           --------------  -----  \n",
      " 0   RowNumber        10000 non-null  int64  \n",
      " 1   CustomerId       10000 non-null  int64  \n",
      " 2   Surname          10000 non-null  object \n",
      " 3   CreditScore      10000 non-null  int64  \n",
      " 4   Geography        10000 non-null  object \n",
      " 5   Gender           10000 non-null  object \n",
      " 6   Age              10000 non-null  int64  \n",
      " 7   Tenure           10000 non-null  int64  \n",
      " 8   Balance          10000 non-null  float64\n",
      " 9   NumOfProducts    10000 non-null  int64  \n",
      " 10  HasCrCard        10000 non-null  int64  \n",
      " 11  IsActiveMember   10000 non-null  int64  \n",
      " 12  EstimatedSalary  10000 non-null  float64\n",
      " 13  Exited           10000 non-null  int64  \n",
      "dtypes: float64(2), int64(9), object(3)\n",
      "memory usage: 1.1+ MB\n"
     ]
    }
   ],
   "source": [
    "df.info()"
   ]
  },
  {
   "cell_type": "code",
   "execution_count": 6,
   "id": "ec847234",
   "metadata": {
    "execution": {
     "iopub.execute_input": "2025-01-20T13:45:45.506075Z",
     "iopub.status.busy": "2025-01-20T13:45:45.505714Z",
     "iopub.status.idle": "2025-01-20T13:45:45.546560Z",
     "shell.execute_reply": "2025-01-20T13:45:45.545251Z"
    },
    "papermill": {
     "duration": 0.051349,
     "end_time": "2025-01-20T13:45:45.548332",
     "exception": false,
     "start_time": "2025-01-20T13:45:45.496983",
     "status": "completed"
    },
    "tags": []
   },
   "outputs": [
    {
     "data": {
      "text/html": [
       "<div>\n",
       "<style scoped>\n",
       "    .dataframe tbody tr th:only-of-type {\n",
       "        vertical-align: middle;\n",
       "    }\n",
       "\n",
       "    .dataframe tbody tr th {\n",
       "        vertical-align: top;\n",
       "    }\n",
       "\n",
       "    .dataframe thead th {\n",
       "        text-align: right;\n",
       "    }\n",
       "</style>\n",
       "<table border=\"1\" class=\"dataframe\">\n",
       "  <thead>\n",
       "    <tr style=\"text-align: right;\">\n",
       "      <th></th>\n",
       "      <th>RowNumber</th>\n",
       "      <th>CustomerId</th>\n",
       "      <th>CreditScore</th>\n",
       "      <th>Age</th>\n",
       "      <th>Tenure</th>\n",
       "      <th>Balance</th>\n",
       "      <th>NumOfProducts</th>\n",
       "      <th>HasCrCard</th>\n",
       "      <th>IsActiveMember</th>\n",
       "      <th>EstimatedSalary</th>\n",
       "      <th>Exited</th>\n",
       "    </tr>\n",
       "  </thead>\n",
       "  <tbody>\n",
       "    <tr>\n",
       "      <th>count</th>\n",
       "      <td>10000.00000</td>\n",
       "      <td>1.000000e+04</td>\n",
       "      <td>10000.000000</td>\n",
       "      <td>10000.000000</td>\n",
       "      <td>10000.000000</td>\n",
       "      <td>10000.000000</td>\n",
       "      <td>10000.000000</td>\n",
       "      <td>10000.00000</td>\n",
       "      <td>10000.000000</td>\n",
       "      <td>10000.000000</td>\n",
       "      <td>10000.000000</td>\n",
       "    </tr>\n",
       "    <tr>\n",
       "      <th>mean</th>\n",
       "      <td>5000.50000</td>\n",
       "      <td>1.569094e+07</td>\n",
       "      <td>650.528800</td>\n",
       "      <td>38.921800</td>\n",
       "      <td>5.012800</td>\n",
       "      <td>76485.889288</td>\n",
       "      <td>1.530200</td>\n",
       "      <td>0.70550</td>\n",
       "      <td>0.515100</td>\n",
       "      <td>100090.239881</td>\n",
       "      <td>0.203700</td>\n",
       "    </tr>\n",
       "    <tr>\n",
       "      <th>std</th>\n",
       "      <td>2886.89568</td>\n",
       "      <td>7.193619e+04</td>\n",
       "      <td>96.653299</td>\n",
       "      <td>10.487806</td>\n",
       "      <td>2.892174</td>\n",
       "      <td>62397.405202</td>\n",
       "      <td>0.581654</td>\n",
       "      <td>0.45584</td>\n",
       "      <td>0.499797</td>\n",
       "      <td>57510.492818</td>\n",
       "      <td>0.402769</td>\n",
       "    </tr>\n",
       "    <tr>\n",
       "      <th>min</th>\n",
       "      <td>1.00000</td>\n",
       "      <td>1.556570e+07</td>\n",
       "      <td>350.000000</td>\n",
       "      <td>18.000000</td>\n",
       "      <td>0.000000</td>\n",
       "      <td>0.000000</td>\n",
       "      <td>1.000000</td>\n",
       "      <td>0.00000</td>\n",
       "      <td>0.000000</td>\n",
       "      <td>11.580000</td>\n",
       "      <td>0.000000</td>\n",
       "    </tr>\n",
       "    <tr>\n",
       "      <th>25%</th>\n",
       "      <td>2500.75000</td>\n",
       "      <td>1.562853e+07</td>\n",
       "      <td>584.000000</td>\n",
       "      <td>32.000000</td>\n",
       "      <td>3.000000</td>\n",
       "      <td>0.000000</td>\n",
       "      <td>1.000000</td>\n",
       "      <td>0.00000</td>\n",
       "      <td>0.000000</td>\n",
       "      <td>51002.110000</td>\n",
       "      <td>0.000000</td>\n",
       "    </tr>\n",
       "    <tr>\n",
       "      <th>50%</th>\n",
       "      <td>5000.50000</td>\n",
       "      <td>1.569074e+07</td>\n",
       "      <td>652.000000</td>\n",
       "      <td>37.000000</td>\n",
       "      <td>5.000000</td>\n",
       "      <td>97198.540000</td>\n",
       "      <td>1.000000</td>\n",
       "      <td>1.00000</td>\n",
       "      <td>1.000000</td>\n",
       "      <td>100193.915000</td>\n",
       "      <td>0.000000</td>\n",
       "    </tr>\n",
       "    <tr>\n",
       "      <th>75%</th>\n",
       "      <td>7500.25000</td>\n",
       "      <td>1.575323e+07</td>\n",
       "      <td>718.000000</td>\n",
       "      <td>44.000000</td>\n",
       "      <td>7.000000</td>\n",
       "      <td>127644.240000</td>\n",
       "      <td>2.000000</td>\n",
       "      <td>1.00000</td>\n",
       "      <td>1.000000</td>\n",
       "      <td>149388.247500</td>\n",
       "      <td>0.000000</td>\n",
       "    </tr>\n",
       "    <tr>\n",
       "      <th>max</th>\n",
       "      <td>10000.00000</td>\n",
       "      <td>1.581569e+07</td>\n",
       "      <td>850.000000</td>\n",
       "      <td>92.000000</td>\n",
       "      <td>10.000000</td>\n",
       "      <td>250898.090000</td>\n",
       "      <td>4.000000</td>\n",
       "      <td>1.00000</td>\n",
       "      <td>1.000000</td>\n",
       "      <td>199992.480000</td>\n",
       "      <td>1.000000</td>\n",
       "    </tr>\n",
       "  </tbody>\n",
       "</table>\n",
       "</div>"
      ],
      "text/plain": [
       "         RowNumber    CustomerId   CreditScore           Age        Tenure  \\\n",
       "count  10000.00000  1.000000e+04  10000.000000  10000.000000  10000.000000   \n",
       "mean    5000.50000  1.569094e+07    650.528800     38.921800      5.012800   \n",
       "std     2886.89568  7.193619e+04     96.653299     10.487806      2.892174   \n",
       "min        1.00000  1.556570e+07    350.000000     18.000000      0.000000   \n",
       "25%     2500.75000  1.562853e+07    584.000000     32.000000      3.000000   \n",
       "50%     5000.50000  1.569074e+07    652.000000     37.000000      5.000000   \n",
       "75%     7500.25000  1.575323e+07    718.000000     44.000000      7.000000   \n",
       "max    10000.00000  1.581569e+07    850.000000     92.000000     10.000000   \n",
       "\n",
       "             Balance  NumOfProducts    HasCrCard  IsActiveMember  \\\n",
       "count   10000.000000   10000.000000  10000.00000    10000.000000   \n",
       "mean    76485.889288       1.530200      0.70550        0.515100   \n",
       "std     62397.405202       0.581654      0.45584        0.499797   \n",
       "min         0.000000       1.000000      0.00000        0.000000   \n",
       "25%         0.000000       1.000000      0.00000        0.000000   \n",
       "50%     97198.540000       1.000000      1.00000        1.000000   \n",
       "75%    127644.240000       2.000000      1.00000        1.000000   \n",
       "max    250898.090000       4.000000      1.00000        1.000000   \n",
       "\n",
       "       EstimatedSalary        Exited  \n",
       "count     10000.000000  10000.000000  \n",
       "mean     100090.239881      0.203700  \n",
       "std       57510.492818      0.402769  \n",
       "min          11.580000      0.000000  \n",
       "25%       51002.110000      0.000000  \n",
       "50%      100193.915000      0.000000  \n",
       "75%      149388.247500      0.000000  \n",
       "max      199992.480000      1.000000  "
      ]
     },
     "execution_count": 6,
     "metadata": {},
     "output_type": "execute_result"
    }
   ],
   "source": [
    "df.describe()"
   ]
  },
  {
   "cell_type": "code",
   "execution_count": 7,
   "id": "bc866d84",
   "metadata": {
    "execution": {
     "iopub.execute_input": "2025-01-20T13:45:45.565652Z",
     "iopub.status.busy": "2025-01-20T13:45:45.565268Z",
     "iopub.status.idle": "2025-01-20T13:45:45.575569Z",
     "shell.execute_reply": "2025-01-20T13:45:45.574513Z"
    },
    "papermill": {
     "duration": 0.020854,
     "end_time": "2025-01-20T13:45:45.577218",
     "exception": false,
     "start_time": "2025-01-20T13:45:45.556364",
     "status": "completed"
    },
    "tags": []
   },
   "outputs": [
    {
     "data": {
      "text/plain": [
       "RowNumber          0\n",
       "CustomerId         0\n",
       "Surname            0\n",
       "CreditScore        0\n",
       "Geography          0\n",
       "Gender             0\n",
       "Age                0\n",
       "Tenure             0\n",
       "Balance            0\n",
       "NumOfProducts      0\n",
       "HasCrCard          0\n",
       "IsActiveMember     0\n",
       "EstimatedSalary    0\n",
       "Exited             0\n",
       "dtype: int64"
      ]
     },
     "execution_count": 7,
     "metadata": {},
     "output_type": "execute_result"
    }
   ],
   "source": [
    "df.isna().sum()"
   ]
  },
  {
   "cell_type": "code",
   "execution_count": 8,
   "id": "6cd670f7",
   "metadata": {
    "execution": {
     "iopub.execute_input": "2025-01-20T13:45:45.594707Z",
     "iopub.status.busy": "2025-01-20T13:45:45.594317Z",
     "iopub.status.idle": "2025-01-20T13:45:45.606701Z",
     "shell.execute_reply": "2025-01-20T13:45:45.605610Z"
    },
    "papermill": {
     "duration": 0.023132,
     "end_time": "2025-01-20T13:45:45.608419",
     "exception": false,
     "start_time": "2025-01-20T13:45:45.585287",
     "status": "completed"
    },
    "tags": []
   },
   "outputs": [
    {
     "data": {
      "text/plain": [
       "0"
      ]
     },
     "execution_count": 8,
     "metadata": {},
     "output_type": "execute_result"
    }
   ],
   "source": [
    "df.duplicated().sum()"
   ]
  },
  {
   "cell_type": "markdown",
   "id": "3e19359b",
   "metadata": {
    "papermill": {
     "duration": 0.008053,
     "end_time": "2025-01-20T13:45:45.625151",
     "exception": false,
     "start_time": "2025-01-20T13:45:45.617098",
     "status": "completed"
    },
    "tags": []
   },
   "source": [
    "**Visualization**"
   ]
  },
  {
   "cell_type": "code",
   "execution_count": 9,
   "id": "ada3e669",
   "metadata": {
    "execution": {
     "iopub.execute_input": "2025-01-20T13:45:45.642992Z",
     "iopub.status.busy": "2025-01-20T13:45:45.642646Z",
     "iopub.status.idle": "2025-01-20T13:45:45.902820Z",
     "shell.execute_reply": "2025-01-20T13:45:45.901630Z"
    },
    "papermill": {
     "duration": 0.271299,
     "end_time": "2025-01-20T13:45:45.904654",
     "exception": false,
     "start_time": "2025-01-20T13:45:45.633355",
     "status": "completed"
    },
    "tags": []
   },
   "outputs": [
    {
     "data": {
      "image/png": "[encoded data removed]",
      "text/plain": [
       "<Figure size 600x700 with 1 Axes>"
      ]
     },
     "metadata": {},
     "output_type": "display_data"
    }
   ],
   "source": [
    "plt.figure(figsize=(6,7))\n",
    "sns.countplot(x=df['Gender'],  palette='Set1')\n",
    "plt.title('Gender Count')\n",
    "plt.show()"
   ]
  },
  {
   "cell_type": "code",
   "execution_count": 10,
   "id": "46031eb2",
   "metadata": {
    "execution": {
     "iopub.execute_input": "2025-01-20T13:45:45.923368Z",
     "iopub.status.busy": "2025-01-20T13:45:45.923031Z",
     "iopub.status.idle": "2025-01-20T13:45:46.071436Z",
     "shell.execute_reply": "2025-01-20T13:45:46.070375Z"
    },
    "papermill": {
     "duration": 0.159774,
     "end_time": "2025-01-20T13:45:46.073182",
     "exception": false,
     "start_time": "2025-01-20T13:45:45.913408",
     "status": "completed"
    },
    "tags": []
   },
   "outputs": [
    {
     "data": {
      "image/png": "[encoded data removed]",
      "text/plain": [
       "<Figure size 600x700 with 1 Axes>"
      ]
     },
     "metadata": {},
     "output_type": "display_data"
    }
   ],
   "source": [
    "plt.figure(figsize=(6,7))\n",
    "sns.countplot(data=df, y='Geography',  palette='Set2')\n",
    "plt.title('Geography Count')\n",
    "plt.show()"
   ]
  },
  {
   "cell_type": "code",
   "execution_count": 11,
   "id": "e1fa9623",
   "metadata": {
    "execution": {
     "iopub.execute_input": "2025-01-20T13:45:46.093045Z",
     "iopub.status.busy": "2025-01-20T13:45:46.092693Z",
     "iopub.status.idle": "2025-01-20T13:45:46.279924Z",
     "shell.execute_reply": "2025-01-20T13:45:46.278799Z"
    },
    "papermill": {
     "duration": 0.199796,
     "end_time": "2025-01-20T13:45:46.282207",
     "exception": false,
     "start_time": "2025-01-20T13:45:46.082411",
     "status": "completed"
    },
    "tags": []
   },
   "outputs": [
    {
     "data": {
      "image/png": "[encoded data removed]",
      "text/plain": [
       "<Figure size 600x700 with 1 Axes>"
      ]
     },
     "metadata": {},
     "output_type": "display_data"
    }
   ],
   "source": [
    "plt.figure(figsize=(6,7))\n",
    "sns.countplot(data=df, y='Geography', hue='Gender', palette='Set2')\n",
    "plt.title('Geography Distribution by Gender')\n",
    "plt.show()"
   ]
  },
  {
   "cell_type": "code",
   "execution_count": 12,
   "id": "5e9fbbdd",
   "metadata": {
    "execution": {
     "iopub.execute_input": "2025-01-20T13:45:46.306089Z",
     "iopub.status.busy": "2025-01-20T13:45:46.305722Z",
     "iopub.status.idle": "2025-01-20T13:45:46.317072Z",
     "shell.execute_reply": "2025-01-20T13:45:46.316048Z"
    },
    "papermill": {
     "duration": 0.023785,
     "end_time": "2025-01-20T13:45:46.318884",
     "exception": false,
     "start_time": "2025-01-20T13:45:46.295099",
     "status": "completed"
    },
    "tags": []
   },
   "outputs": [
    {
     "name": "stdout",
     "output_type": "stream",
     "text": [
      "Churned Count:  7963\n",
      "Retained Count:  2037\n"
     ]
    }
   ],
   "source": [
    "churned_cnt = df[df['Exited']==0]['Exited'].count()\n",
    "retained_cnt = df[df['Exited']==1]['Exited'].count()\n",
    "print(\"Churned Count: \",churned_cnt)\n",
    "print(\"Retained Count: \",retained_cnt)"
   ]
  },
  {
   "cell_type": "code",
   "execution_count": 13,
   "id": "c1117e1d",
   "metadata": {
    "execution": {
     "iopub.execute_input": "2025-01-20T13:45:46.339664Z",
     "iopub.status.busy": "2025-01-20T13:45:46.339269Z",
     "iopub.status.idle": "2025-01-20T13:45:46.767035Z",
     "shell.execute_reply": "2025-01-20T13:45:46.765809Z"
    },
    "papermill": {
     "duration": 0.440051,
     "end_time": "2025-01-20T13:45:46.768772",
     "exception": false,
     "start_time": "2025-01-20T13:45:46.328721",
     "status": "completed"
    },
    "tags": []
   },
   "outputs": [
    {
     "data": {
      "image/png": "[encoded data removed]",
      "text/plain": [
       "<Figure size 600x700 with 1 Axes>"
      ]
     },
     "metadata": {},
     "output_type": "display_data"
    }
   ],
   "source": [
    "plt.figure(figsize=(6,7))\n",
    "sns.barplot(x=['Churned', 'Retained'], y=[churned_cnt, retained_cnt], palette='Set2')\n",
    "plt.title('Churned VS Retained')\n",
    "plt.xlabel('Customer Status')\n",
    "plt.ylabel('Count')\n",
    "plt.show()"
   ]
  },
  {
   "cell_type": "code",
   "execution_count": 14,
   "id": "85089d86",
   "metadata": {
    "execution": {
     "iopub.execute_input": "2025-01-20T13:45:46.790421Z",
     "iopub.status.busy": "2025-01-20T13:45:46.790067Z",
     "iopub.status.idle": "2025-01-20T13:45:46.989441Z",
     "shell.execute_reply": "2025-01-20T13:45:46.988179Z"
    },
    "papermill": {
     "duration": 0.212405,
     "end_time": "2025-01-20T13:45:46.991338",
     "exception": false,
     "start_time": "2025-01-20T13:45:46.778933",
     "status": "completed"
    },
    "tags": []
   },
   "outputs": [
    {
     "data": {
      "image/png": "[encoded data removed]",
      "text/plain": [
       "<Figure size 600x700 with 1 Axes>"
      ]
     },
     "metadata": {},
     "output_type": "display_data"
    }
   ],
   "source": [
    "data = pd.Series([churned_cnt, retained_cnt], index=['Churned', 'Retained'])\n",
    "plt.figure(figsize=(6,7))\n",
    "data.plot(kind='pie', autopct = '%1.1f%%')\n",
    "plt.title('Pie Chart of Churned vs Retained Customers')\n",
    "plt.show()"
   ]
  },
  {
   "cell_type": "code",
   "execution_count": 15,
   "id": "abbee190",
   "metadata": {
    "execution": {
     "iopub.execute_input": "2025-01-20T13:45:47.014471Z",
     "iopub.status.busy": "2025-01-20T13:45:47.014144Z",
     "iopub.status.idle": "2025-01-20T13:45:47.022324Z",
     "shell.execute_reply": "2025-01-20T13:45:47.021346Z"
    },
    "papermill": {
     "duration": 0.021824,
     "end_time": "2025-01-20T13:45:47.024143",
     "exception": false,
     "start_time": "2025-01-20T13:45:47.002319",
     "status": "completed"
    },
    "tags": []
   },
   "outputs": [],
   "source": [
    "df.drop(['RowNumber', 'CustomerId', 'Surname'], axis=1, inplace=True)"
   ]
  },
  {
   "cell_type": "code",
   "execution_count": 16,
   "id": "ecd6eb7c",
   "metadata": {
    "execution": {
     "iopub.execute_input": "2025-01-20T13:45:47.047072Z",
     "iopub.status.busy": "2025-01-20T13:45:47.046725Z",
     "iopub.status.idle": "2025-01-20T13:45:47.059866Z",
     "shell.execute_reply": "2025-01-20T13:45:47.058763Z"
    },
    "papermill": {
     "duration": 0.026516,
     "end_time": "2025-01-20T13:45:47.061466",
     "exception": false,
     "start_time": "2025-01-20T13:45:47.034950",
     "status": "completed"
    },
    "tags": []
   },
   "outputs": [
    {
     "data": {
      "text/html": [
       "<div>\n",
       "<style scoped>\n",
       "    .dataframe tbody tr th:only-of-type {\n",
       "        vertical-align: middle;\n",
       "    }\n",
       "\n",
       "    .dataframe tbody tr th {\n",
       "        vertical-align: top;\n",
       "    }\n",
       "\n",
       "    .dataframe thead th {\n",
       "        text-align: right;\n",
       "    }\n",
       "</style>\n",
       "<table border=\"1\" class=\"dataframe\">\n",
       "  <thead>\n",
       "    <tr style=\"text-align: right;\">\n",
       "      <th></th>\n",
       "      <th>CreditScore</th>\n",
       "      <th>Geography</th>\n",
       "      <th>Gender</th>\n",
       "      <th>Age</th>\n",
       "      <th>Tenure</th>\n",
       "      <th>Balance</th>\n",
       "      <th>NumOfProducts</th>\n",
       "      <th>HasCrCard</th>\n",
       "      <th>IsActiveMember</th>\n",
       "      <th>EstimatedSalary</th>\n",
       "      <th>Exited</th>\n",
       "    </tr>\n",
       "  </thead>\n",
       "  <tbody>\n",
       "    <tr>\n",
       "      <th>0</th>\n",
       "      <td>619</td>\n",
       "      <td>France</td>\n",
       "      <td>Female</td>\n",
       "      <td>42</td>\n",
       "      <td>2</td>\n",
       "      <td>0.00</td>\n",
       "      <td>1</td>\n",
       "      <td>1</td>\n",
       "      <td>1</td>\n",
       "      <td>101348.88</td>\n",
       "      <td>1</td>\n",
       "    </tr>\n",
       "    <tr>\n",
       "      <th>1</th>\n",
       "      <td>608</td>\n",
       "      <td>Spain</td>\n",
       "      <td>Female</td>\n",
       "      <td>41</td>\n",
       "      <td>1</td>\n",
       "      <td>83807.86</td>\n",
       "      <td>1</td>\n",
       "      <td>0</td>\n",
       "      <td>1</td>\n",
       "      <td>112542.58</td>\n",
       "      <td>0</td>\n",
       "    </tr>\n",
       "    <tr>\n",
       "      <th>2</th>\n",
       "      <td>502</td>\n",
       "      <td>France</td>\n",
       "      <td>Female</td>\n",
       "      <td>42</td>\n",
       "      <td>8</td>\n",
       "      <td>159660.80</td>\n",
       "      <td>3</td>\n",
       "      <td>1</td>\n",
       "      <td>0</td>\n",
       "      <td>113931.57</td>\n",
       "      <td>1</td>\n",
       "    </tr>\n",
       "    <tr>\n",
       "      <th>3</th>\n",
       "      <td>699</td>\n",
       "      <td>France</td>\n",
       "      <td>Female</td>\n",
       "      <td>39</td>\n",
       "      <td>1</td>\n",
       "      <td>0.00</td>\n",
       "      <td>2</td>\n",
       "      <td>0</td>\n",
       "      <td>0</td>\n",
       "      <td>93826.63</td>\n",
       "      <td>0</td>\n",
       "    </tr>\n",
       "    <tr>\n",
       "      <th>4</th>\n",
       "      <td>850</td>\n",
       "      <td>Spain</td>\n",
       "      <td>Female</td>\n",
       "      <td>43</td>\n",
       "      <td>2</td>\n",
       "      <td>125510.82</td>\n",
       "      <td>1</td>\n",
       "      <td>1</td>\n",
       "      <td>1</td>\n",
       "      <td>79084.10</td>\n",
       "      <td>0</td>\n",
       "    </tr>\n",
       "  </tbody>\n",
       "</table>\n",
       "</div>"
      ],
      "text/plain": [
       "   CreditScore Geography  Gender  Age  Tenure    Balance  NumOfProducts  \\\n",
       "0          619    France  Female   42       2       0.00              1   \n",
       "1          608     Spain  Female   41       1   83807.86              1   \n",
       "2          502    France  Female   42       8  159660.80              3   \n",
       "3          699    France  Female   39       1       0.00              2   \n",
       "4          850     Spain  Female   43       2  125510.82              1   \n",
       "\n",
       "   HasCrCard  IsActiveMember  EstimatedSalary  Exited  \n",
       "0          1               1        101348.88       1  \n",
       "1          0               1        112542.58       0  \n",
       "2          1               0        113931.57       1  \n",
       "3          0               0         93826.63       0  \n",
       "4          1               1         79084.10       0  "
      ]
     },
     "execution_count": 16,
     "metadata": {},
     "output_type": "execute_result"
    }
   ],
   "source": [
    "df.head()"
   ]
  },
  {
   "cell_type": "markdown",
   "id": "3f4c3a73",
   "metadata": {
    "papermill": {
     "duration": 0.010436,
     "end_time": "2025-01-20T13:45:47.082817",
     "exception": false,
     "start_time": "2025-01-20T13:45:47.072381",
     "status": "completed"
    },
    "tags": []
   },
   "source": [
    "**Handling Categorical Columns**"
   ]
  },
  {
   "cell_type": "code",
   "execution_count": 17,
   "id": "09f440f6",
   "metadata": {
    "execution": {
     "iopub.execute_input": "2025-01-20T13:45:47.105828Z",
     "iopub.status.busy": "2025-01-20T13:45:47.105339Z",
     "iopub.status.idle": "2025-01-20T13:45:47.115450Z",
     "shell.execute_reply": "2025-01-20T13:45:47.114497Z"
    },
    "papermill": {
     "duration": 0.023555,
     "end_time": "2025-01-20T13:45:47.117125",
     "exception": false,
     "start_time": "2025-01-20T13:45:47.093570",
     "status": "completed"
    },
    "tags": []
   },
   "outputs": [
    {
     "data": {
      "text/plain": [
       "Gender\n",
       "Male      5457\n",
       "Female    4543\n",
       "Name: count, dtype: int64"
      ]
     },
     "execution_count": 17,
     "metadata": {},
     "output_type": "execute_result"
    }
   ],
   "source": [
    "df['Gender'].value_counts()"
   ]
  },
  {
   "cell_type": "code",
   "execution_count": 18,
   "id": "1c10135b",
   "metadata": {
    "execution": {
     "iopub.execute_input": "2025-01-20T13:45:47.140392Z",
     "iopub.status.busy": "2025-01-20T13:45:47.139937Z",
     "iopub.status.idle": "2025-01-20T13:45:47.148860Z",
     "shell.execute_reply": "2025-01-20T13:45:47.147847Z"
    },
    "papermill": {
     "duration": 0.02256,
     "end_time": "2025-01-20T13:45:47.150629",
     "exception": false,
     "start_time": "2025-01-20T13:45:47.128069",
     "status": "completed"
    },
    "tags": []
   },
   "outputs": [
    {
     "data": {
      "text/plain": [
       "{'Male': 5457, 'Female': 4543}"
      ]
     },
     "execution_count": 18,
     "metadata": {},
     "output_type": "execute_result"
    }
   ],
   "source": [
    "df['Gender'].value_counts().to_dict()"
   ]
  },
  {
   "cell_type": "code",
   "execution_count": 19,
   "id": "f6f445cb",
   "metadata": {
    "execution": {
     "iopub.execute_input": "2025-01-20T13:45:47.174354Z",
     "iopub.status.busy": "2025-01-20T13:45:47.173886Z",
     "iopub.status.idle": "2025-01-20T13:45:47.190054Z",
     "shell.execute_reply": "2025-01-20T13:45:47.188958Z"
    },
    "papermill": {
     "duration": 0.030236,
     "end_time": "2025-01-20T13:45:47.192086",
     "exception": false,
     "start_time": "2025-01-20T13:45:47.161850",
     "status": "completed"
    },
    "tags": []
   },
   "outputs": [],
   "source": [
    "df.replace({'Male': 1, 'Female': 0}, inplace=True)"
   ]
  },
  {
   "cell_type": "code",
   "execution_count": 20,
   "id": "c30f51cf",
   "metadata": {
    "execution": {
     "iopub.execute_input": "2025-01-20T13:45:47.215953Z",
     "iopub.status.busy": "2025-01-20T13:45:47.215457Z",
     "iopub.status.idle": "2025-01-20T13:45:47.236884Z",
     "shell.execute_reply": "2025-01-20T13:45:47.235804Z"
    },
    "papermill": {
     "duration": 0.035582,
     "end_time": "2025-01-20T13:45:47.238709",
     "exception": false,
     "start_time": "2025-01-20T13:45:47.203127",
     "status": "completed"
    },
    "tags": []
   },
   "outputs": [
    {
     "data": {
      "text/html": [
       "<div>\n",
       "<style scoped>\n",
       "    .dataframe tbody tr th:only-of-type {\n",
       "        vertical-align: middle;\n",
       "    }\n",
       "\n",
       "    .dataframe tbody tr th {\n",
       "        vertical-align: top;\n",
       "    }\n",
       "\n",
       "    .dataframe thead th {\n",
       "        text-align: right;\n",
       "    }\n",
       "</style>\n",
       "<table border=\"1\" class=\"dataframe\">\n",
       "  <thead>\n",
       "    <tr style=\"text-align: right;\">\n",
       "      <th></th>\n",
       "      <th>CreditScore</th>\n",
       "      <th>Gender</th>\n",
       "      <th>Age</th>\n",
       "      <th>Tenure</th>\n",
       "      <th>Balance</th>\n",
       "      <th>NumOfProducts</th>\n",
       "      <th>HasCrCard</th>\n",
       "      <th>IsActiveMember</th>\n",
       "      <th>EstimatedSalary</th>\n",
       "      <th>Exited</th>\n",
       "      <th>Geography_France</th>\n",
       "      <th>Geography_Germany</th>\n",
       "      <th>Geography_Spain</th>\n",
       "    </tr>\n",
       "  </thead>\n",
       "  <tbody>\n",
       "    <tr>\n",
       "      <th>0</th>\n",
       "      <td>619</td>\n",
       "      <td>0</td>\n",
       "      <td>42</td>\n",
       "      <td>2</td>\n",
       "      <td>0.00</td>\n",
       "      <td>1</td>\n",
       "      <td>1</td>\n",
       "      <td>1</td>\n",
       "      <td>101348.88</td>\n",
       "      <td>1</td>\n",
       "      <td>1</td>\n",
       "      <td>0</td>\n",
       "      <td>0</td>\n",
       "    </tr>\n",
       "    <tr>\n",
       "      <th>1</th>\n",
       "      <td>608</td>\n",
       "      <td>0</td>\n",
       "      <td>41</td>\n",
       "      <td>1</td>\n",
       "      <td>83807.86</td>\n",
       "      <td>1</td>\n",
       "      <td>0</td>\n",
       "      <td>1</td>\n",
       "      <td>112542.58</td>\n",
       "      <td>0</td>\n",
       "      <td>0</td>\n",
       "      <td>0</td>\n",
       "      <td>1</td>\n",
       "    </tr>\n",
       "    <tr>\n",
       "      <th>2</th>\n",
       "      <td>502</td>\n",
       "      <td>0</td>\n",
       "      <td>42</td>\n",
       "      <td>8</td>\n",
       "      <td>159660.80</td>\n",
       "      <td>3</td>\n",
       "      <td>1</td>\n",
       "      <td>0</td>\n",
       "      <td>113931.57</td>\n",
       "      <td>1</td>\n",
       "      <td>1</td>\n",
       "      <td>0</td>\n",
       "      <td>0</td>\n",
       "    </tr>\n",
       "    <tr>\n",
       "      <th>3</th>\n",
       "      <td>699</td>\n",
       "      <td>0</td>\n",
       "      <td>39</td>\n",
       "      <td>1</td>\n",
       "      <td>0.00</td>\n",
       "      <td>2</td>\n",
       "      <td>0</td>\n",
       "      <td>0</td>\n",
       "      <td>93826.63</td>\n",
       "      <td>0</td>\n",
       "      <td>1</td>\n",
       "      <td>0</td>\n",
       "      <td>0</td>\n",
       "    </tr>\n",
       "    <tr>\n",
       "      <th>4</th>\n",
       "      <td>850</td>\n",
       "      <td>0</td>\n",
       "      <td>43</td>\n",
       "      <td>2</td>\n",
       "      <td>125510.82</td>\n",
       "      <td>1</td>\n",
       "      <td>1</td>\n",
       "      <td>1</td>\n",
       "      <td>79084.10</td>\n",
       "      <td>0</td>\n",
       "      <td>0</td>\n",
       "      <td>0</td>\n",
       "      <td>1</td>\n",
       "    </tr>\n",
       "  </tbody>\n",
       "</table>\n",
       "</div>"
      ],
      "text/plain": [
       "   CreditScore  Gender  Age  Tenure    Balance  NumOfProducts  HasCrCard  \\\n",
       "0          619       0   42       2       0.00              1          1   \n",
       "1          608       0   41       1   83807.86              1          0   \n",
       "2          502       0   42       8  159660.80              3          1   \n",
       "3          699       0   39       1       0.00              2          0   \n",
       "4          850       0   43       2  125510.82              1          1   \n",
       "\n",
       "   IsActiveMember  EstimatedSalary  Exited  Geography_France  \\\n",
       "0               1        101348.88       1                 1   \n",
       "1               1        112542.58       0                 0   \n",
       "2               0        113931.57       1                 1   \n",
       "3               0         93826.63       0                 1   \n",
       "4               1         79084.10       0                 0   \n",
       "\n",
       "   Geography_Germany  Geography_Spain  \n",
       "0                  0                0  \n",
       "1                  0                1  \n",
       "2                  0                0  \n",
       "3                  0                0  \n",
       "4                  0                1  "
      ]
     },
     "execution_count": 20,
     "metadata": {},
     "output_type": "execute_result"
    }
   ],
   "source": [
    "df = pd.get_dummies(df, columns=['Geography'], dtype=int)\n",
    "df.head()"
   ]
  },
  {
   "cell_type": "markdown",
   "id": "0b33fdc6",
   "metadata": {
    "papermill": {
     "duration": 0.011573,
     "end_time": "2025-01-20T13:45:47.261836",
     "exception": false,
     "start_time": "2025-01-20T13:45:47.250263",
     "status": "completed"
    },
    "tags": []
   },
   "source": [
    "**Splitting the Data**"
   ]
  },
  {
   "cell_type": "code",
   "execution_count": 21,
   "id": "32dc8e6d",
   "metadata": {
    "execution": {
     "iopub.execute_input": "2025-01-20T13:45:47.285914Z",
     "iopub.status.busy": "2025-01-20T13:45:47.285436Z",
     "iopub.status.idle": "2025-01-20T13:45:47.292023Z",
     "shell.execute_reply": "2025-01-20T13:45:47.291026Z"
    },
    "papermill": {
     "duration": 0.02064,
     "end_time": "2025-01-20T13:45:47.293739",
     "exception": false,
     "start_time": "2025-01-20T13:45:47.273099",
     "status": "completed"
    },
    "tags": []
   },
   "outputs": [],
   "source": [
    "x = df.drop(['Exited'], axis=1)\n",
    "y = df['Exited']"
   ]
  },
  {
   "cell_type": "code",
   "execution_count": 22,
   "id": "a684313e",
   "metadata": {
    "execution": {
     "iopub.execute_input": "2025-01-20T13:45:47.317981Z",
     "iopub.status.busy": "2025-01-20T13:45:47.317461Z",
     "iopub.status.idle": "2025-01-20T13:45:47.332367Z",
     "shell.execute_reply": "2025-01-20T13:45:47.331261Z"
    },
    "papermill": {
     "duration": 0.029489,
     "end_time": "2025-01-20T13:45:47.334584",
     "exception": false,
     "start_time": "2025-01-20T13:45:47.305095",
     "status": "completed"
    },
    "tags": []
   },
   "outputs": [],
   "source": [
    "x_train, x_test, y_train, y_test = train_test_split(x,y, test_size=0.2, random_state=5, stratify=y)"
   ]
  },
  {
   "cell_type": "markdown",
   "id": "c88f18f7",
   "metadata": {
    "papermill": {
     "duration": 0.010845,
     "end_time": "2025-01-20T13:45:47.356815",
     "exception": false,
     "start_time": "2025-01-20T13:45:47.345970",
     "status": "completed"
    },
    "tags": []
   },
   "source": [
    "**Scaling**"
   ]
  },
  {
   "cell_type": "code",
   "execution_count": 23,
   "id": "18a5f75b",
   "metadata": {
    "execution": {
     "iopub.execute_input": "2025-01-20T13:45:47.380835Z",
     "iopub.status.busy": "2025-01-20T13:45:47.380314Z",
     "iopub.status.idle": "2025-01-20T13:45:47.392989Z",
     "shell.execute_reply": "2025-01-20T13:45:47.391887Z"
    },
    "papermill": {
     "duration": 0.026903,
     "end_time": "2025-01-20T13:45:47.394940",
     "exception": false,
     "start_time": "2025-01-20T13:45:47.368037",
     "status": "completed"
    },
    "tags": []
   },
   "outputs": [],
   "source": [
    "normal_scaler = MinMaxScaler()\n",
    "array1 = normal_scaler.fit_transform(x_train)\n",
    "x_train_scaled = pd.DataFrame(array1, columns=x_train.columns)\n",
    "# print(x_train_scaled)\n",
    "\n",
    "array2 = normal_scaler.transform(x_test)\n",
    "x_test_scaled = pd.DataFrame(array2, columns=x_test.columns)\n",
    "# print(x_test_scaled)"
   ]
  },
  {
   "cell_type": "code",
   "execution_count": null,
   "id": "942039ab",
   "metadata": {
    "papermill": {
     "duration": 0.01089,
     "end_time": "2025-01-20T13:45:47.417189",
     "exception": false,
     "start_time": "2025-01-20T13:45:47.406299",
     "status": "completed"
    },
    "tags": []
   },
   "outputs": [],
   "source": []
  },
  {
   "cell_type": "markdown",
   "id": "8358b037",
   "metadata": {
    "papermill": {
     "duration": 0.010782,
     "end_time": "2025-01-20T13:45:47.439093",
     "exception": false,
     "start_time": "2025-01-20T13:45:47.428311",
     "status": "completed"
    },
    "tags": []
   },
   "source": [
    "**Model Building**"
   ]
  },
  {
   "cell_type": "code",
   "execution_count": 24,
   "id": "931911f5",
   "metadata": {
    "execution": {
     "iopub.execute_input": "2025-01-20T13:45:47.463313Z",
     "iopub.status.busy": "2025-01-20T13:45:47.462934Z",
     "iopub.status.idle": "2025-01-20T13:45:47.562796Z",
     "shell.execute_reply": "2025-01-20T13:45:47.561611Z"
    },
    "papermill": {
     "duration": 0.114556,
     "end_time": "2025-01-20T13:45:47.565098",
     "exception": false,
     "start_time": "2025-01-20T13:45:47.450542",
     "status": "completed"
    },
    "tags": []
   },
   "outputs": [],
   "source": [
    "model = Sequential()\n",
    "model.add(Dense(12, activation='relu', input_shape=(12, )))\n",
    "model.add(Dense(6, activation='relu'))\n",
    "model.add(Dense(1, activation='sigmoid'))"
   ]
  },
  {
   "cell_type": "code",
   "execution_count": 25,
   "id": "3d9cdf72",
   "metadata": {
    "execution": {
     "iopub.execute_input": "2025-01-20T13:45:47.597401Z",
     "iopub.status.busy": "2025-01-20T13:45:47.597024Z",
     "iopub.status.idle": "2025-01-20T13:45:47.611370Z",
     "shell.execute_reply": "2025-01-20T13:45:47.610251Z"
    },
    "papermill": {
     "duration": 0.028813,
     "end_time": "2025-01-20T13:45:47.613316",
     "exception": false,
     "start_time": "2025-01-20T13:45:47.584503",
     "status": "completed"
    },
    "tags": []
   },
   "outputs": [],
   "source": [
    "model.compile(optimizer='Adam',\n",
    "              loss = 'binary_crossentropy',\n",
    "              metrics = ['accuracy'])"
   ]
  },
  {
   "cell_type": "code",
   "execution_count": 26,
   "id": "b280993b",
   "metadata": {
    "execution": {
     "iopub.execute_input": "2025-01-20T13:45:47.637391Z",
     "iopub.status.busy": "2025-01-20T13:45:47.637019Z",
     "iopub.status.idle": "2025-01-20T13:45:47.654236Z",
     "shell.execute_reply": "2025-01-20T13:45:47.653190Z"
    },
    "papermill": {
     "duration": 0.03156,
     "end_time": "2025-01-20T13:45:47.656230",
     "exception": false,
     "start_time": "2025-01-20T13:45:47.624670",
     "status": "completed"
    },
    "tags": []
   },
   "outputs": [
    {
     "data": {
      "text/html": [
       "<pre style=\"white-space:pre;overflow-x:auto;line-height:normal;font-family:Menlo,'DejaVu Sans Mono',consolas,'Courier New',monospace\"><span style=\"font-weight: bold\">Model: \"sequential\"</span>\n",
       "</pre>\n"
      ],
      "text/plain": [
       "\u001b[1mModel: \"sequential\"\u001b[0m\n"
      ]
     },
     "metadata": {},
     "output_type": "display_data"
    },
    {
     "data": {
      "text/html": [
       "<pre style=\"white-space:pre;overflow-x:auto;line-height:normal;font-family:Menlo,'DejaVu Sans Mono',consolas,'Courier New',monospace\">┏━━━━━━━━━━━━━━━━━━━━━━━━━━━━━━━━━━━━━━┳━━━━━━━━━━━━━━━━━━━━━━━━━━━━━┳━━━━━━━━━━━━━━━━━┓\n",
       "┃<span style=\"font-weight: bold\"> Layer (type)                         </span>┃<span style=\"font-weight: bold\"> Output Shape                </span>┃<span style=\"font-weight: bold\">         Param # </span>┃\n",
       "┡━━━━━━━━━━━━━━━━━━━━━━━━━━━━━━━━━━━━━━╇━━━━━━━━━━━━━━━━━━━━━━━━━━━━━╇━━━━━━━━━━━━━━━━━┩\n",
       "│ dense (<span style=\"color: #0087ff; text-decoration-color: #0087ff\">Dense</span>)                        │ (<span style=\"color: #00d7ff; text-decoration-color: #00d7ff\">None</span>, <span style=\"color: #00af00; text-decoration-color: #00af00\">12</span>)                  │             <span style=\"color: #00af00; text-decoration-color: #00af00\">156</span> │\n",
       "├──────────────────────────────────────┼─────────────────────────────┼─────────────────┤\n",
       "│ dense_1 (<span style=\"color: #0087ff; text-decoration-color: #0087ff\">Dense</span>)                      │ (<span style=\"color: #00d7ff; text-decoration-color: #00d7ff\">None</span>, <span style=\"color: #00af00; text-decoration-color: #00af00\">6</span>)                   │              <span style=\"color: #00af00; text-decoration-color: #00af00\">78</span> │\n",
       "├──────────────────────────────────────┼─────────────────────────────┼─────────────────┤\n",
       "│ dense_2 (<span style=\"color: #0087ff; text-decoration-color: #0087ff\">Dense</span>)                      │ (<span style=\"color: #00d7ff; text-decoration-color: #00d7ff\">None</span>, <span style=\"color: #00af00; text-decoration-color: #00af00\">1</span>)                   │               <span style=\"color: #00af00; text-decoration-color: #00af00\">7</span> │\n",
       "└──────────────────────────────────────┴─────────────────────────────┴─────────────────┘\n",
       "</pre>\n"
      ],
      "text/plain": [
       "┏━━━━━━━━━━━━━━━━━━━━━━━━━━━━━━━━━━━━━━┳━━━━━━━━━━━━━━━━━━━━━━━━━━━━━┳━━━━━━━━━━━━━━━━━┓\n",
       "┃\u001b[1m \u001b[0m\u001b[1mLayer (type)                        \u001b[0m\u001b[1m \u001b[0m┃\u001b[1m \u001b[0m\u001b[1mOutput Shape               \u001b[0m\u001b[1m \u001b[0m┃\u001b[1m \u001b[0m\u001b[1m        Param #\u001b[0m\u001b[1m \u001b[0m┃\n",
       "┡━━━━━━━━━━━━━━━━━━━━━━━━━━━━━━━━━━━━━━╇━━━━━━━━━━━━━━━━━━━━━━━━━━━━━╇━━━━━━━━━━━━━━━━━┩\n",
       "│ dense (\u001b[38;5;33mDense\u001b[0m)                        │ (\u001b[38;5;45mNone\u001b[0m, \u001b[38;5;34m12\u001b[0m)                  │             \u001b[38;5;34m156\u001b[0m │\n",
       "├──────────────────────────────────────┼─────────────────────────────┼─────────────────┤\n",
       "│ dense_1 (\u001b[38;5;33mDense\u001b[0m)                      │ (\u001b[38;5;45mNone\u001b[0m, \u001b[38;5;34m6\u001b[0m)                   │              \u001b[38;5;34m78\u001b[0m │\n",
       "├──────────────────────────────────────┼─────────────────────────────┼─────────────────┤\n",
       "│ dense_2 (\u001b[38;5;33mDense\u001b[0m)                      │ (\u001b[38;5;45mNone\u001b[0m, \u001b[38;5;34m1\u001b[0m)                   │               \u001b[38;5;34m7\u001b[0m │\n",
       "└──────────────────────────────────────┴─────────────────────────────┴─────────────────┘\n"
      ]
     },
     "metadata": {},
     "output_type": "display_data"
    },
    {
     "data": {
      "text/html": [
       "<pre style=\"white-space:pre;overflow-x:auto;line-height:normal;font-family:Menlo,'DejaVu Sans Mono',consolas,'Courier New',monospace\"><span style=\"font-weight: bold\"> Total params: </span><span style=\"color: #00af00; text-decoration-color: #00af00\">241</span> (964.00 B)\n",
       "</pre>\n"
      ],
      "text/plain": [
       "\u001b[1m Total params: \u001b[0m\u001b[38;5;34m241\u001b[0m (964.00 B)\n"
      ]
     },
     "metadata": {},
     "output_type": "display_data"
    },
    {
     "data": {
      "text/html": [
       "<pre style=\"white-space:pre;overflow-x:auto;line-height:normal;font-family:Menlo,'DejaVu Sans Mono',consolas,'Courier New',monospace\"><span style=\"font-weight: bold\"> Trainable params: </span><span style=\"color: #00af00; text-decoration-color: #00af00\">241</span> (964.00 B)\n",
       "</pre>\n"
      ],
      "text/plain": [
       "\u001b[1m Trainable params: \u001b[0m\u001b[38;5;34m241\u001b[0m (964.00 B)\n"
      ]
     },
     "metadata": {},
     "output_type": "display_data"
    },
    {
     "data": {
      "text/html": [
       "<pre style=\"white-space:pre;overflow-x:auto;line-height:normal;font-family:Menlo,'DejaVu Sans Mono',consolas,'Courier New',monospace\"><span style=\"font-weight: bold\"> Non-trainable params: </span><span style=\"color: #00af00; text-decoration-color: #00af00\">0</span> (0.00 B)\n",
       "</pre>\n"
      ],
      "text/plain": [
       "\u001b[1m Non-trainable params: \u001b[0m\u001b[38;5;34m0\u001b[0m (0.00 B)\n"
      ]
     },
     "metadata": {},
     "output_type": "display_data"
    }
   ],
   "source": [
    "model.summary()"
   ]
  },
  {
   "cell_type": "code",
   "execution_count": 27,
   "id": "22f30c0c",
   "metadata": {
    "execution": {
     "iopub.execute_input": "2025-01-20T13:45:47.689845Z",
     "iopub.status.busy": "2025-01-20T13:45:47.689436Z",
     "iopub.status.idle": "2025-01-20T13:46:24.373956Z",
     "shell.execute_reply": "2025-01-20T13:46:24.372817Z"
    },
    "papermill": {
     "duration": 36.699918,
     "end_time": "2025-01-20T13:46:24.375903",
     "exception": false,
     "start_time": "2025-01-20T13:45:47.675985",
     "status": "completed"
    },
    "tags": []
   },
   "outputs": [
    {
     "name": "stdout",
     "output_type": "stream",
     "text": [
      "Epoch 1/100\n",
      "\u001b[1m200/200\u001b[0m \u001b[32m━━━━━━━━━━━━━━━━━━━━\u001b[0m\u001b[37m\u001b[0m \u001b[1m2s\u001b[0m 2ms/step - accuracy: 0.6744 - loss: 0.6104 - val_accuracy: 0.7944 - val_loss: 0.4945\n",
      "Epoch 2/100\n",
      "\u001b[1m200/200\u001b[0m \u001b[32m━━━━━━━━━━━━━━━━━━━━\u001b[0m\u001b[37m\u001b[0m \u001b[1m0s\u001b[0m 2ms/step - accuracy: 0.7966 - loss: 0.4862 - val_accuracy: 0.7944 - val_loss: 0.4818\n",
      "Epoch 3/100\n",
      "\u001b[1m200/200\u001b[0m \u001b[32m━━━━━━━━━━━━━━━━━━━━\u001b[0m\u001b[37m\u001b[0m \u001b[1m0s\u001b[0m 2ms/step - accuracy: 0.8017 - loss: 0.4711 - val_accuracy: 0.8000 - val_loss: 0.4746\n",
      "Epoch 4/100\n",
      "\u001b[1m200/200\u001b[0m \u001b[32m━━━━━━━━━━━━━━━━━━━━\u001b[0m\u001b[37m\u001b[0m \u001b[1m0s\u001b[0m 2ms/step - accuracy: 0.7975 - loss: 0.4732 - val_accuracy: 0.7994 - val_loss: 0.4695\n",
      "Epoch 5/100\n",
      "\u001b[1m200/200\u001b[0m \u001b[32m━━━━━━━━━━━━━━━━━━━━\u001b[0m\u001b[37m\u001b[0m \u001b[1m0s\u001b[0m 2ms/step - accuracy: 0.8197 - loss: 0.4361 - val_accuracy: 0.8119 - val_loss: 0.4534\n",
      "Epoch 6/100\n",
      "\u001b[1m200/200\u001b[0m \u001b[32m━━━━━━━━━━━━━━━━━━━━\u001b[0m\u001b[37m\u001b[0m \u001b[1m0s\u001b[0m 2ms/step - accuracy: 0.8078 - loss: 0.4445 - val_accuracy: 0.8144 - val_loss: 0.4413\n",
      "Epoch 7/100\n",
      "\u001b[1m200/200\u001b[0m \u001b[32m━━━━━━━━━━━━━━━━━━━━\u001b[0m\u001b[37m\u001b[0m \u001b[1m0s\u001b[0m 2ms/step - accuracy: 0.8147 - loss: 0.4300 - val_accuracy: 0.8188 - val_loss: 0.4260\n",
      "Epoch 8/100\n",
      "\u001b[1m200/200\u001b[0m \u001b[32m━━━━━━━━━━━━━━━━━━━━\u001b[0m\u001b[37m\u001b[0m \u001b[1m0s\u001b[0m 2ms/step - accuracy: 0.8158 - loss: 0.4227 - val_accuracy: 0.8263 - val_loss: 0.4123\n",
      "Epoch 9/100\n",
      "\u001b[1m200/200\u001b[0m \u001b[32m━━━━━━━━━━━━━━━━━━━━\u001b[0m\u001b[37m\u001b[0m \u001b[1m0s\u001b[0m 2ms/step - accuracy: 0.8289 - loss: 0.3999 - val_accuracy: 0.8338 - val_loss: 0.4014\n",
      "Epoch 10/100\n",
      "\u001b[1m200/200\u001b[0m \u001b[32m━━━━━━━━━━━━━━━━━━━━\u001b[0m\u001b[37m\u001b[0m \u001b[1m0s\u001b[0m 2ms/step - accuracy: 0.8329 - loss: 0.3848 - val_accuracy: 0.8431 - val_loss: 0.3906\n",
      "Epoch 11/100\n",
      "\u001b[1m200/200\u001b[0m \u001b[32m━━━━━━━━━━━━━━━━━━━━\u001b[0m\u001b[37m\u001b[0m \u001b[1m0s\u001b[0m 2ms/step - accuracy: 0.8273 - loss: 0.3988 - val_accuracy: 0.8425 - val_loss: 0.3844\n",
      "Epoch 12/100\n",
      "\u001b[1m200/200\u001b[0m \u001b[32m━━━━━━━━━━━━━━━━━━━━\u001b[0m\u001b[37m\u001b[0m \u001b[1m0s\u001b[0m 2ms/step - accuracy: 0.8339 - loss: 0.3855 - val_accuracy: 0.8400 - val_loss: 0.3818\n",
      "Epoch 13/100\n",
      "\u001b[1m200/200\u001b[0m \u001b[32m━━━━━━━━━━━━━━━━━━━━\u001b[0m\u001b[37m\u001b[0m \u001b[1m0s\u001b[0m 2ms/step - accuracy: 0.8446 - loss: 0.3683 - val_accuracy: 0.8519 - val_loss: 0.3732\n",
      "Epoch 14/100\n",
      "\u001b[1m200/200\u001b[0m \u001b[32m━━━━━━━━━━━━━━━━━━━━\u001b[0m\u001b[37m\u001b[0m \u001b[1m0s\u001b[0m 2ms/step - accuracy: 0.8446 - loss: 0.3676 - val_accuracy: 0.8525 - val_loss: 0.3711\n",
      "Epoch 15/100\n",
      "\u001b[1m200/200\u001b[0m \u001b[32m━━━━━━━━━━━━━━━━━━━━\u001b[0m\u001b[37m\u001b[0m \u001b[1m0s\u001b[0m 2ms/step - accuracy: 0.8489 - loss: 0.3643 - val_accuracy: 0.8462 - val_loss: 0.3688\n",
      "Epoch 16/100\n",
      "\u001b[1m200/200\u001b[0m \u001b[32m━━━━━━━━━━━━━━━━━━━━\u001b[0m\u001b[37m\u001b[0m \u001b[1m0s\u001b[0m 2ms/step - accuracy: 0.8483 - loss: 0.3654 - val_accuracy: 0.8525 - val_loss: 0.3647\n",
      "Epoch 17/100\n",
      "\u001b[1m200/200\u001b[0m \u001b[32m━━━━━━━━━━━━━━━━━━━━\u001b[0m\u001b[37m\u001b[0m \u001b[1m0s\u001b[0m 2ms/step - accuracy: 0.8515 - loss: 0.3608 - val_accuracy: 0.8556 - val_loss: 0.3626\n",
      "Epoch 18/100\n",
      "\u001b[1m200/200\u001b[0m \u001b[32m━━━━━━━━━━━━━━━━━━━━\u001b[0m\u001b[37m\u001b[0m \u001b[1m0s\u001b[0m 2ms/step - accuracy: 0.8457 - loss: 0.3674 - val_accuracy: 0.8556 - val_loss: 0.3618\n",
      "Epoch 19/100\n",
      "\u001b[1m200/200\u001b[0m \u001b[32m━━━━━━━━━━━━━━━━━━━━\u001b[0m\u001b[37m\u001b[0m \u001b[1m0s\u001b[0m 2ms/step - accuracy: 0.8475 - loss: 0.3584 - val_accuracy: 0.8562 - val_loss: 0.3609\n",
      "Epoch 20/100\n",
      "\u001b[1m200/200\u001b[0m \u001b[32m━━━━━━━━━━━━━━━━━━━━\u001b[0m\u001b[37m\u001b[0m \u001b[1m0s\u001b[0m 2ms/step - accuracy: 0.8420 - loss: 0.3747 - val_accuracy: 0.8587 - val_loss: 0.3609\n",
      "Epoch 21/100\n",
      "\u001b[1m200/200\u001b[0m \u001b[32m━━━━━━━━━━━━━━━━━━━━\u001b[0m\u001b[37m\u001b[0m \u001b[1m0s\u001b[0m 2ms/step - accuracy: 0.8554 - loss: 0.3426 - val_accuracy: 0.8625 - val_loss: 0.3587\n",
      "Epoch 22/100\n",
      "\u001b[1m200/200\u001b[0m \u001b[32m━━━━━━━━━━━━━━━━━━━━\u001b[0m\u001b[37m\u001b[0m \u001b[1m0s\u001b[0m 2ms/step - accuracy: 0.8522 - loss: 0.3512 - val_accuracy: 0.8594 - val_loss: 0.3606\n",
      "Epoch 23/100\n",
      "\u001b[1m200/200\u001b[0m \u001b[32m━━━━━━━━━━━━━━━━━━━━\u001b[0m\u001b[37m\u001b[0m \u001b[1m0s\u001b[0m 2ms/step - accuracy: 0.8467 - loss: 0.3626 - val_accuracy: 0.8550 - val_loss: 0.3584\n",
      "Epoch 24/100\n",
      "\u001b[1m200/200\u001b[0m \u001b[32m━━━━━━━━━━━━━━━━━━━━\u001b[0m\u001b[37m\u001b[0m \u001b[1m0s\u001b[0m 2ms/step - accuracy: 0.8487 - loss: 0.3542 - val_accuracy: 0.8500 - val_loss: 0.3637\n",
      "Epoch 25/100\n",
      "\u001b[1m200/200\u001b[0m \u001b[32m━━━━━━━━━━━━━━━━━━━━\u001b[0m\u001b[37m\u001b[0m \u001b[1m0s\u001b[0m 2ms/step - accuracy: 0.8557 - loss: 0.3519 - val_accuracy: 0.8625 - val_loss: 0.3574\n",
      "Epoch 26/100\n",
      "\u001b[1m200/200\u001b[0m \u001b[32m━━━━━━━━━━━━━━━━━━━━\u001b[0m\u001b[37m\u001b[0m \u001b[1m0s\u001b[0m 2ms/step - accuracy: 0.8545 - loss: 0.3460 - val_accuracy: 0.8575 - val_loss: 0.3609\n",
      "Epoch 27/100\n",
      "\u001b[1m200/200\u001b[0m \u001b[32m━━━━━━━━━━━━━━━━━━━━\u001b[0m\u001b[37m\u001b[0m \u001b[1m0s\u001b[0m 2ms/step - accuracy: 0.8420 - loss: 0.3674 - val_accuracy: 0.8637 - val_loss: 0.3564\n",
      "Epoch 28/100\n",
      "\u001b[1m200/200\u001b[0m \u001b[32m━━━━━━━━━━━━━━━━━━━━\u001b[0m\u001b[37m\u001b[0m \u001b[1m0s\u001b[0m 2ms/step - accuracy: 0.8562 - loss: 0.3483 - val_accuracy: 0.8587 - val_loss: 0.3594\n",
      "Epoch 29/100\n",
      "\u001b[1m200/200\u001b[0m \u001b[32m━━━━━━━━━━━━━━━━━━━━\u001b[0m\u001b[37m\u001b[0m \u001b[1m0s\u001b[0m 2ms/step - accuracy: 0.8519 - loss: 0.3580 - val_accuracy: 0.8594 - val_loss: 0.3583\n",
      "Epoch 30/100\n",
      "\u001b[1m200/200\u001b[0m \u001b[32m━━━━━━━━━━━━━━━━━━━━\u001b[0m\u001b[37m\u001b[0m \u001b[1m0s\u001b[0m 2ms/step - accuracy: 0.8544 - loss: 0.3516 - val_accuracy: 0.8544 - val_loss: 0.3590\n",
      "Epoch 31/100\n",
      "\u001b[1m200/200\u001b[0m \u001b[32m━━━━━━━━━━━━━━━━━━━━\u001b[0m\u001b[37m\u001b[0m \u001b[1m0s\u001b[0m 2ms/step - accuracy: 0.8485 - loss: 0.3543 - val_accuracy: 0.8525 - val_loss: 0.3593\n",
      "Epoch 32/100\n",
      "\u001b[1m200/200\u001b[0m \u001b[32m━━━━━━━━━━━━━━━━━━━━\u001b[0m\u001b[37m\u001b[0m \u001b[1m0s\u001b[0m 2ms/step - accuracy: 0.8478 - loss: 0.3518 - val_accuracy: 0.8612 - val_loss: 0.3576\n",
      "Epoch 33/100\n",
      "\u001b[1m200/200\u001b[0m \u001b[32m━━━━━━━━━━━━━━━━━━━━\u001b[0m\u001b[37m\u001b[0m \u001b[1m0s\u001b[0m 2ms/step - accuracy: 0.8558 - loss: 0.3439 - val_accuracy: 0.8594 - val_loss: 0.3581\n",
      "Epoch 34/100\n",
      "\u001b[1m200/200\u001b[0m \u001b[32m━━━━━━━━━━━━━━━━━━━━\u001b[0m\u001b[37m\u001b[0m \u001b[1m0s\u001b[0m 2ms/step - accuracy: 0.8535 - loss: 0.3395 - val_accuracy: 0.8600 - val_loss: 0.3566\n",
      "Epoch 35/100\n",
      "\u001b[1m200/200\u001b[0m \u001b[32m━━━━━━━━━━━━━━━━━━━━\u001b[0m\u001b[37m\u001b[0m \u001b[1m0s\u001b[0m 2ms/step - accuracy: 0.8547 - loss: 0.3511 - val_accuracy: 0.8581 - val_loss: 0.3606\n",
      "Epoch 36/100\n",
      "\u001b[1m200/200\u001b[0m \u001b[32m━━━━━━━━━━━━━━━━━━━━\u001b[0m\u001b[37m\u001b[0m \u001b[1m0s\u001b[0m 2ms/step - accuracy: 0.8497 - loss: 0.3501 - val_accuracy: 0.8562 - val_loss: 0.3585\n",
      "Epoch 37/100\n",
      "\u001b[1m200/200\u001b[0m \u001b[32m━━━━━━━━━━━━━━━━━━━━\u001b[0m\u001b[37m\u001b[0m \u001b[1m0s\u001b[0m 2ms/step - accuracy: 0.8421 - loss: 0.3606 - val_accuracy: 0.8625 - val_loss: 0.3566\n",
      "Epoch 38/100\n",
      "\u001b[1m200/200\u001b[0m \u001b[32m━━━━━━━━━━━━━━━━━━━━\u001b[0m\u001b[37m\u001b[0m \u001b[1m0s\u001b[0m 2ms/step - accuracy: 0.8574 - loss: 0.3353 - val_accuracy: 0.8562 - val_loss: 0.3580\n",
      "Epoch 39/100\n",
      "\u001b[1m200/200\u001b[0m \u001b[32m━━━━━━━━━━━━━━━━━━━━\u001b[0m\u001b[37m\u001b[0m \u001b[1m0s\u001b[0m 2ms/step - accuracy: 0.8529 - loss: 0.3585 - val_accuracy: 0.8625 - val_loss: 0.3564\n",
      "Epoch 40/100\n",
      "\u001b[1m200/200\u001b[0m \u001b[32m━━━━━━━━━━━━━━━━━━━━\u001b[0m\u001b[37m\u001b[0m \u001b[1m0s\u001b[0m 2ms/step - accuracy: 0.8548 - loss: 0.3446 - val_accuracy: 0.8587 - val_loss: 0.3570\n",
      "Epoch 41/100\n",
      "\u001b[1m200/200\u001b[0m \u001b[32m━━━━━━━━━━━━━━━━━━━━\u001b[0m\u001b[37m\u001b[0m \u001b[1m0s\u001b[0m 2ms/step - accuracy: 0.8500 - loss: 0.3585 - val_accuracy: 0.8594 - val_loss: 0.3581\n",
      "Epoch 42/100\n",
      "\u001b[1m200/200\u001b[0m \u001b[32m━━━━━━━━━━━━━━━━━━━━\u001b[0m\u001b[37m\u001b[0m \u001b[1m0s\u001b[0m 2ms/step - accuracy: 0.8501 - loss: 0.3494 - val_accuracy: 0.8625 - val_loss: 0.3564\n",
      "Epoch 43/100\n",
      "\u001b[1m200/200\u001b[0m \u001b[32m━━━━━━━━━━━━━━━━━━━━\u001b[0m\u001b[37m\u001b[0m \u001b[1m0s\u001b[0m 2ms/step - accuracy: 0.8544 - loss: 0.3493 - val_accuracy: 0.8581 - val_loss: 0.3559\n",
      "Epoch 44/100\n",
      "\u001b[1m200/200\u001b[0m \u001b[32m━━━━━━━━━━━━━━━━━━━━\u001b[0m\u001b[37m\u001b[0m \u001b[1m0s\u001b[0m 2ms/step - accuracy: 0.8569 - loss: 0.3414 - val_accuracy: 0.8612 - val_loss: 0.3591\n",
      "Epoch 45/100\n",
      "\u001b[1m200/200\u001b[0m \u001b[32m━━━━━━━━━━━━━━━━━━━━\u001b[0m\u001b[37m\u001b[0m \u001b[1m0s\u001b[0m 2ms/step - accuracy: 0.8640 - loss: 0.3314 - val_accuracy: 0.8644 - val_loss: 0.3551\n",
      "Epoch 46/100\n",
      "\u001b[1m200/200\u001b[0m \u001b[32m━━━━━━━━━━━━━━━━━━━━\u001b[0m\u001b[37m\u001b[0m \u001b[1m0s\u001b[0m 2ms/step - accuracy: 0.8577 - loss: 0.3366 - val_accuracy: 0.8625 - val_loss: 0.3556\n",
      "Epoch 47/100\n",
      "\u001b[1m200/200\u001b[0m \u001b[32m━━━━━━━━━━━━━━━━━━━━\u001b[0m\u001b[37m\u001b[0m \u001b[1m0s\u001b[0m 2ms/step - accuracy: 0.8584 - loss: 0.3364 - val_accuracy: 0.8587 - val_loss: 0.3561\n",
      "Epoch 48/100\n",
      "\u001b[1m200/200\u001b[0m \u001b[32m━━━━━━━━━━━━━━━━━━━━\u001b[0m\u001b[37m\u001b[0m \u001b[1m0s\u001b[0m 2ms/step - accuracy: 0.8565 - loss: 0.3442 - val_accuracy: 0.8612 - val_loss: 0.3556\n",
      "Epoch 49/100\n",
      "\u001b[1m200/200\u001b[0m \u001b[32m━━━━━━━━━━━━━━━━━━━━\u001b[0m\u001b[37m\u001b[0m \u001b[1m0s\u001b[0m 2ms/step - accuracy: 0.8536 - loss: 0.3405 - val_accuracy: 0.8637 - val_loss: 0.3559\n",
      "Epoch 50/100\n",
      "\u001b[1m200/200\u001b[0m \u001b[32m━━━━━━━━━━━━━━━━━━━━\u001b[0m\u001b[37m\u001b[0m \u001b[1m0s\u001b[0m 2ms/step - accuracy: 0.8533 - loss: 0.3510 - val_accuracy: 0.8606 - val_loss: 0.3567\n",
      "Epoch 51/100\n",
      "\u001b[1m200/200\u001b[0m \u001b[32m━━━━━━━━━━━━━━━━━━━━\u001b[0m\u001b[37m\u001b[0m \u001b[1m0s\u001b[0m 2ms/step - accuracy: 0.8619 - loss: 0.3333 - val_accuracy: 0.8612 - val_loss: 0.3552\n",
      "Epoch 52/100\n",
      "\u001b[1m200/200\u001b[0m \u001b[32m━━━━━━━━━━━━━━━━━━━━\u001b[0m\u001b[37m\u001b[0m \u001b[1m0s\u001b[0m 2ms/step - accuracy: 0.8598 - loss: 0.3382 - val_accuracy: 0.8612 - val_loss: 0.3558\n",
      "Epoch 53/100\n",
      "\u001b[1m200/200\u001b[0m \u001b[32m━━━━━━━━━━━━━━━━━━━━\u001b[0m\u001b[37m\u001b[0m \u001b[1m0s\u001b[0m 2ms/step - accuracy: 0.8636 - loss: 0.3356 - val_accuracy: 0.8625 - val_loss: 0.3559\n",
      "Epoch 54/100\n",
      "\u001b[1m200/200\u001b[0m \u001b[32m━━━━━━━━━━━━━━━━━━━━\u001b[0m\u001b[37m\u001b[0m \u001b[1m0s\u001b[0m 2ms/step - accuracy: 0.8571 - loss: 0.3486 - val_accuracy: 0.8531 - val_loss: 0.3603\n",
      "Epoch 55/100\n",
      "\u001b[1m200/200\u001b[0m \u001b[32m━━━━━━━━━━━━━━━━━━━━\u001b[0m\u001b[37m\u001b[0m \u001b[1m0s\u001b[0m 2ms/step - accuracy: 0.8526 - loss: 0.3514 - val_accuracy: 0.8612 - val_loss: 0.3569\n",
      "Epoch 56/100\n",
      "\u001b[1m200/200\u001b[0m \u001b[32m━━━━━━━━━━━━━━━━━━━━\u001b[0m\u001b[37m\u001b[0m \u001b[1m0s\u001b[0m 2ms/step - accuracy: 0.8602 - loss: 0.3330 - val_accuracy: 0.8631 - val_loss: 0.3571\n",
      "Epoch 57/100\n",
      "\u001b[1m200/200\u001b[0m \u001b[32m━━━━━━━━━━━━━━━━━━━━\u001b[0m\u001b[37m\u001b[0m \u001b[1m0s\u001b[0m 2ms/step - accuracy: 0.8539 - loss: 0.3447 - val_accuracy: 0.8612 - val_loss: 0.3570\n",
      "Epoch 58/100\n",
      "\u001b[1m200/200\u001b[0m \u001b[32m━━━━━━━━━━━━━━━━━━━━\u001b[0m\u001b[37m\u001b[0m \u001b[1m0s\u001b[0m 2ms/step - accuracy: 0.8503 - loss: 0.3491 - val_accuracy: 0.8612 - val_loss: 0.3561\n",
      "Epoch 59/100\n",
      "\u001b[1m200/200\u001b[0m \u001b[32m━━━━━━━━━━━━━━━━━━━━\u001b[0m\u001b[37m\u001b[0m \u001b[1m0s\u001b[0m 2ms/step - accuracy: 0.8565 - loss: 0.3369 - val_accuracy: 0.8556 - val_loss: 0.3555\n",
      "Epoch 60/100\n",
      "\u001b[1m200/200\u001b[0m \u001b[32m━━━━━━━━━━━━━━━━━━━━\u001b[0m\u001b[37m\u001b[0m \u001b[1m0s\u001b[0m 2ms/step - accuracy: 0.8531 - loss: 0.3500 - val_accuracy: 0.8612 - val_loss: 0.3613\n",
      "Epoch 61/100\n",
      "\u001b[1m200/200\u001b[0m \u001b[32m━━━━━━━━━━━━━━━━━━━━\u001b[0m\u001b[37m\u001b[0m \u001b[1m0s\u001b[0m 2ms/step - accuracy: 0.8506 - loss: 0.3549 - val_accuracy: 0.8606 - val_loss: 0.3561\n",
      "Epoch 62/100\n",
      "\u001b[1m200/200\u001b[0m \u001b[32m━━━━━━━━━━━━━━━━━━━━\u001b[0m\u001b[37m\u001b[0m \u001b[1m0s\u001b[0m 2ms/step - accuracy: 0.8637 - loss: 0.3278 - val_accuracy: 0.8594 - val_loss: 0.3544\n",
      "Epoch 63/100\n",
      "\u001b[1m200/200\u001b[0m \u001b[32m━━━━━━━━━━━━━━━━━━━━\u001b[0m\u001b[37m\u001b[0m \u001b[1m0s\u001b[0m 2ms/step - accuracy: 0.8558 - loss: 0.3409 - val_accuracy: 0.8594 - val_loss: 0.3548\n",
      "Epoch 64/100\n",
      "\u001b[1m200/200\u001b[0m \u001b[32m━━━━━━━━━━━━━━━━━━━━\u001b[0m\u001b[37m\u001b[0m \u001b[1m0s\u001b[0m 2ms/step - accuracy: 0.8605 - loss: 0.3314 - val_accuracy: 0.8562 - val_loss: 0.3559\n",
      "Epoch 65/100\n",
      "\u001b[1m200/200\u001b[0m \u001b[32m━━━━━━━━━━━━━━━━━━━━\u001b[0m\u001b[37m\u001b[0m \u001b[1m0s\u001b[0m 2ms/step - accuracy: 0.8610 - loss: 0.3471 - val_accuracy: 0.8556 - val_loss: 0.3560\n",
      "Epoch 66/100\n",
      "\u001b[1m200/200\u001b[0m \u001b[32m━━━━━━━━━━━━━━━━━━━━\u001b[0m\u001b[37m\u001b[0m \u001b[1m0s\u001b[0m 2ms/step - accuracy: 0.8611 - loss: 0.3358 - val_accuracy: 0.8525 - val_loss: 0.3570\n",
      "Epoch 67/100\n",
      "\u001b[1m200/200\u001b[0m \u001b[32m━━━━━━━━━━━━━━━━━━━━\u001b[0m\u001b[37m\u001b[0m \u001b[1m0s\u001b[0m 2ms/step - accuracy: 0.8629 - loss: 0.3285 - val_accuracy: 0.8556 - val_loss: 0.3558\n",
      "Epoch 68/100\n",
      "\u001b[1m200/200\u001b[0m \u001b[32m━━━━━━━━━━━━━━━━━━━━\u001b[0m\u001b[37m\u001b[0m \u001b[1m0s\u001b[0m 2ms/step - accuracy: 0.8626 - loss: 0.3385 - val_accuracy: 0.8562 - val_loss: 0.3568\n",
      "Epoch 69/100\n",
      "\u001b[1m200/200\u001b[0m \u001b[32m━━━━━━━━━━━━━━━━━━━━\u001b[0m\u001b[37m\u001b[0m \u001b[1m0s\u001b[0m 2ms/step - accuracy: 0.8674 - loss: 0.3188 - val_accuracy: 0.8569 - val_loss: 0.3553\n",
      "Epoch 70/100\n",
      "\u001b[1m200/200\u001b[0m \u001b[32m━━━━━━━━━━━━━━━━━━━━\u001b[0m\u001b[37m\u001b[0m \u001b[1m0s\u001b[0m 2ms/step - accuracy: 0.8591 - loss: 0.3312 - val_accuracy: 0.8550 - val_loss: 0.3556\n",
      "Epoch 71/100\n",
      "\u001b[1m200/200\u001b[0m \u001b[32m━━━━━━━━━━━━━━━━━━━━\u001b[0m\u001b[37m\u001b[0m \u001b[1m0s\u001b[0m 2ms/step - accuracy: 0.8561 - loss: 0.3380 - val_accuracy: 0.8550 - val_loss: 0.3550\n",
      "Epoch 72/100\n",
      "\u001b[1m200/200\u001b[0m \u001b[32m━━━━━━━━━━━━━━━━━━━━\u001b[0m\u001b[37m\u001b[0m \u001b[1m0s\u001b[0m 2ms/step - accuracy: 0.8567 - loss: 0.3433 - val_accuracy: 0.8562 - val_loss: 0.3557\n",
      "Epoch 73/100\n",
      "\u001b[1m200/200\u001b[0m \u001b[32m━━━━━━━━━━━━━━━━━━━━\u001b[0m\u001b[37m\u001b[0m \u001b[1m0s\u001b[0m 2ms/step - accuracy: 0.8621 - loss: 0.3315 - val_accuracy: 0.8581 - val_loss: 0.3554\n",
      "Epoch 74/100\n",
      "\u001b[1m200/200\u001b[0m \u001b[32m━━━━━━━━━━━━━━━━━━━━\u001b[0m\u001b[37m\u001b[0m \u001b[1m0s\u001b[0m 2ms/step - accuracy: 0.8565 - loss: 0.3501 - val_accuracy: 0.8581 - val_loss: 0.3561\n",
      "Epoch 75/100\n",
      "\u001b[1m200/200\u001b[0m \u001b[32m━━━━━━━━━━━━━━━━━━━━\u001b[0m\u001b[37m\u001b[0m \u001b[1m0s\u001b[0m 2ms/step - accuracy: 0.8524 - loss: 0.3568 - val_accuracy: 0.8575 - val_loss: 0.3554\n",
      "Epoch 76/100\n",
      "\u001b[1m200/200\u001b[0m \u001b[32m━━━━━━━━━━━━━━━━━━━━\u001b[0m\u001b[37m\u001b[0m \u001b[1m0s\u001b[0m 2ms/step - accuracy: 0.8564 - loss: 0.3433 - val_accuracy: 0.8531 - val_loss: 0.3559\n",
      "Epoch 77/100\n",
      "\u001b[1m200/200\u001b[0m \u001b[32m━━━━━━━━━━━━━━━━━━━━\u001b[0m\u001b[37m\u001b[0m \u001b[1m0s\u001b[0m 2ms/step - accuracy: 0.8623 - loss: 0.3311 - val_accuracy: 0.8494 - val_loss: 0.3557\n",
      "Epoch 78/100\n",
      "\u001b[1m200/200\u001b[0m \u001b[32m━━━━━━━━━━━━━━━━━━━━\u001b[0m\u001b[37m\u001b[0m \u001b[1m0s\u001b[0m 2ms/step - accuracy: 0.8631 - loss: 0.3415 - val_accuracy: 0.8569 - val_loss: 0.3546\n",
      "Epoch 79/100\n",
      "\u001b[1m200/200\u001b[0m \u001b[32m━━━━━━━━━━━━━━━━━━━━\u001b[0m\u001b[37m\u001b[0m \u001b[1m0s\u001b[0m 2ms/step - accuracy: 0.8625 - loss: 0.3427 - val_accuracy: 0.8569 - val_loss: 0.3546\n",
      "Epoch 80/100\n",
      "\u001b[1m200/200\u001b[0m \u001b[32m━━━━━━━━━━━━━━━━━━━━\u001b[0m\u001b[37m\u001b[0m \u001b[1m0s\u001b[0m 2ms/step - accuracy: 0.8540 - loss: 0.3378 - val_accuracy: 0.8594 - val_loss: 0.3546\n",
      "Epoch 81/100\n",
      "\u001b[1m200/200\u001b[0m \u001b[32m━━━━━━━━━━━━━━━━━━━━\u001b[0m\u001b[37m\u001b[0m \u001b[1m0s\u001b[0m 2ms/step - accuracy: 0.8527 - loss: 0.3427 - val_accuracy: 0.8556 - val_loss: 0.3552\n",
      "Epoch 82/100\n",
      "\u001b[1m200/200\u001b[0m \u001b[32m━━━━━━━━━━━━━━━━━━━━\u001b[0m\u001b[37m\u001b[0m \u001b[1m0s\u001b[0m 2ms/step - accuracy: 0.8702 - loss: 0.3243 - val_accuracy: 0.8494 - val_loss: 0.3614\n",
      "Epoch 83/100\n",
      "\u001b[1m200/200\u001b[0m \u001b[32m━━━━━━━━━━━━━━━━━━━━\u001b[0m\u001b[37m\u001b[0m \u001b[1m0s\u001b[0m 2ms/step - accuracy: 0.8665 - loss: 0.3200 - val_accuracy: 0.8575 - val_loss: 0.3557\n",
      "Epoch 84/100\n",
      "\u001b[1m200/200\u001b[0m \u001b[32m━━━━━━━━━━━━━━━━━━━━\u001b[0m\u001b[37m\u001b[0m \u001b[1m0s\u001b[0m 2ms/step - accuracy: 0.8653 - loss: 0.3315 - val_accuracy: 0.8581 - val_loss: 0.3551\n",
      "Epoch 85/100\n",
      "\u001b[1m200/200\u001b[0m \u001b[32m━━━━━━━━━━━━━━━━━━━━\u001b[0m\u001b[37m\u001b[0m \u001b[1m0s\u001b[0m 2ms/step - accuracy: 0.8639 - loss: 0.3359 - val_accuracy: 0.8556 - val_loss: 0.3566\n",
      "Epoch 86/100\n",
      "\u001b[1m200/200\u001b[0m \u001b[32m━━━━━━━━━━━━━━━━━━━━\u001b[0m\u001b[37m\u001b[0m \u001b[1m0s\u001b[0m 2ms/step - accuracy: 0.8654 - loss: 0.3301 - val_accuracy: 0.8656 - val_loss: 0.3571\n",
      "Epoch 87/100\n",
      "\u001b[1m200/200\u001b[0m \u001b[32m━━━━━━━━━━━━━━━━━━━━\u001b[0m\u001b[37m\u001b[0m \u001b[1m0s\u001b[0m 2ms/step - accuracy: 0.8635 - loss: 0.3258 - val_accuracy: 0.8550 - val_loss: 0.3554\n",
      "Epoch 88/100\n",
      "\u001b[1m200/200\u001b[0m \u001b[32m━━━━━━━━━━━━━━━━━━━━\u001b[0m\u001b[37m\u001b[0m \u001b[1m0s\u001b[0m 2ms/step - accuracy: 0.8614 - loss: 0.3367 - val_accuracy: 0.8537 - val_loss: 0.3555\n",
      "Epoch 89/100\n",
      "\u001b[1m200/200\u001b[0m \u001b[32m━━━━━━━━━━━━━━━━━━━━\u001b[0m\u001b[37m\u001b[0m \u001b[1m0s\u001b[0m 2ms/step - accuracy: 0.8626 - loss: 0.3339 - val_accuracy: 0.8587 - val_loss: 0.3554\n",
      "Epoch 90/100\n",
      "\u001b[1m200/200\u001b[0m \u001b[32m━━━━━━━━━━━━━━━━━━━━\u001b[0m\u001b[37m\u001b[0m \u001b[1m0s\u001b[0m 2ms/step - accuracy: 0.8583 - loss: 0.3450 - val_accuracy: 0.8600 - val_loss: 0.3562\n",
      "Epoch 91/100\n",
      "\u001b[1m200/200\u001b[0m \u001b[32m━━━━━━━━━━━━━━━━━━━━\u001b[0m\u001b[37m\u001b[0m \u001b[1m0s\u001b[0m 2ms/step - accuracy: 0.8560 - loss: 0.3401 - val_accuracy: 0.8556 - val_loss: 0.3569\n",
      "Epoch 92/100\n",
      "\u001b[1m200/200\u001b[0m \u001b[32m━━━━━━━━━━━━━━━━━━━━\u001b[0m\u001b[37m\u001b[0m \u001b[1m0s\u001b[0m 2ms/step - accuracy: 0.8655 - loss: 0.3258 - val_accuracy: 0.8550 - val_loss: 0.3555\n",
      "Epoch 93/100\n",
      "\u001b[1m200/200\u001b[0m \u001b[32m━━━━━━━━━━━━━━━━━━━━\u001b[0m\u001b[37m\u001b[0m \u001b[1m0s\u001b[0m 2ms/step - accuracy: 0.8604 - loss: 0.3324 - val_accuracy: 0.8619 - val_loss: 0.3588\n",
      "Epoch 94/100\n",
      "\u001b[1m200/200\u001b[0m \u001b[32m━━━━━━━━━━━━━━━━━━━━\u001b[0m\u001b[37m\u001b[0m \u001b[1m0s\u001b[0m 2ms/step - accuracy: 0.8574 - loss: 0.3421 - val_accuracy: 0.8644 - val_loss: 0.3573\n",
      "Epoch 95/100\n",
      "\u001b[1m200/200\u001b[0m \u001b[32m━━━━━━━━━━━━━━━━━━━━\u001b[0m\u001b[37m\u001b[0m \u001b[1m0s\u001b[0m 2ms/step - accuracy: 0.8714 - loss: 0.3145 - val_accuracy: 0.8550 - val_loss: 0.3555\n",
      "Epoch 96/100\n",
      "\u001b[1m200/200\u001b[0m \u001b[32m━━━━━━━━━━━━━━━━━━━━\u001b[0m\u001b[37m\u001b[0m \u001b[1m0s\u001b[0m 2ms/step - accuracy: 0.8649 - loss: 0.3314 - val_accuracy: 0.8562 - val_loss: 0.3565\n",
      "Epoch 97/100\n",
      "\u001b[1m200/200\u001b[0m \u001b[32m━━━━━━━━━━━━━━━━━━━━\u001b[0m\u001b[37m\u001b[0m \u001b[1m0s\u001b[0m 2ms/step - accuracy: 0.8600 - loss: 0.3442 - val_accuracy: 0.8594 - val_loss: 0.3571\n",
      "Epoch 98/100\n",
      "\u001b[1m200/200\u001b[0m \u001b[32m━━━━━━━━━━━━━━━━━━━━\u001b[0m\u001b[37m\u001b[0m \u001b[1m0s\u001b[0m 2ms/step - accuracy: 0.8668 - loss: 0.3251 - val_accuracy: 0.8487 - val_loss: 0.3605\n",
      "Epoch 99/100\n",
      "\u001b[1m200/200\u001b[0m \u001b[32m━━━━━━━━━━━━━━━━━━━━\u001b[0m\u001b[37m\u001b[0m \u001b[1m0s\u001b[0m 2ms/step - accuracy: 0.8574 - loss: 0.3534 - val_accuracy: 0.8587 - val_loss: 0.3562\n",
      "Epoch 100/100\n",
      "\u001b[1m200/200\u001b[0m \u001b[32m━━━━━━━━━━━━━━━━━━━━\u001b[0m\u001b[37m\u001b[0m \u001b[1m0s\u001b[0m 2ms/step - accuracy: 0.8531 - loss: 0.3444 - val_accuracy: 0.8556 - val_loss: 0.3577\n"
     ]
    }
   ],
   "source": [
    "hist_obj = model.fit(x_train_scaled, y_train, validation_split=0.2, epochs=100)"
   ]
  },
  {
   "cell_type": "code",
   "execution_count": 28,
   "id": "cefb03f4",
   "metadata": {
    "execution": {
     "iopub.execute_input": "2025-01-20T13:46:24.481934Z",
     "iopub.status.busy": "2025-01-20T13:46:24.481572Z",
     "iopub.status.idle": "2025-01-20T13:46:24.492403Z",
     "shell.execute_reply": "2025-01-20T13:46:24.491436Z"
    },
    "papermill": {
     "duration": 0.065249,
     "end_time": "2025-01-20T13:46:24.493955",
     "exception": false,
     "start_time": "2025-01-20T13:46:24.428706",
     "status": "completed"
    },
    "tags": []
   },
   "outputs": [
    {
     "data": {
      "text/plain": [
       "[array([[ 0.44332153, -0.57465947,  0.48122194, -0.4070384 ,  0.1536533 ,\n",
       "          0.38852045,  0.22221893, -0.04612204, -0.164834  ,  0.20346883,\n",
       "          0.21468541,  0.12500994],\n",
       "        [-0.12110274, -0.54741204,  0.3716244 , -0.12700918,  0.03645451,\n",
       "          0.569775  , -0.16501674,  0.05575912,  0.6114601 ,  0.367222  ,\n",
       "          0.11271707,  0.00419099],\n",
       "        [-0.10650183, -0.05989656,  0.40947646,  0.30887026, -0.46992773,\n",
       "          0.15918298,  0.29635745, -0.08352701,  0.12884401, -0.01415375,\n",
       "          0.75878227, -1.9928956 ],\n",
       "        [ 0.23607399, -0.42944226, -0.12409578, -0.26959085,  0.10847504,\n",
       "         -0.04420468, -0.17633046,  0.01173937,  0.5170025 ,  0.07441241,\n",
       "          0.38836247, -0.10055633],\n",
       "        [ 0.484499  ,  0.7224322 ,  0.14146641, -0.76185143, -0.25289628,\n",
       "          0.22093587, -1.3411014 ,  0.3583159 , -0.27283105, -0.36433387,\n",
       "         -0.22472003,  0.10943687],\n",
       "        [-0.12791397, -1.299132  , -0.23591736, -0.25585133,  0.22591867,\n",
       "          0.8111148 , -0.45101878,  1.6824147 ,  0.35780397, -2.0634234 ,\n",
       "          1.6549035 ,  0.19253299],\n",
       "        [ 0.29927376,  0.05887993,  0.11001982,  0.3933945 ,  0.44090387,\n",
       "          0.49539194, -0.30352342, -0.03470901,  0.20933928, -0.05997812,\n",
       "         -0.09706321, -0.04051127],\n",
       "        [-0.43490532,  0.1708302 , -0.46520776, -0.35957685, -0.1261764 ,\n",
       "          0.39495483,  0.5602277 , -0.01439349,  0.15423924, -0.31252334,\n",
       "          0.60248417, -0.31587496],\n",
       "        [-0.14111689, -0.05519041, -0.21525128,  0.3999153 ,  0.33692527,\n",
       "         -0.2166915 ,  0.41381106,  0.02204854, -0.15437163,  0.08537205,\n",
       "          0.04474791,  0.04288027],\n",
       "        [-0.28085932,  0.11812475,  0.04382998,  0.16709478, -0.29119122,\n",
       "          0.24747886,  0.27882445, -0.24267164,  0.06926937,  0.3541195 ,\n",
       "          0.2369329 ,  0.54664636],\n",
       "        [ 0.18081892, -0.32218713,  0.17686066, -0.50485617,  0.17079373,\n",
       "          0.26805532,  0.30197108, -0.49484128, -0.50861174,  0.29486033,\n",
       "          0.05632077,  0.46575114],\n",
       "        [-0.223207  , -0.07140918, -0.22202183,  0.4875315 ,  0.32649416,\n",
       "         -0.17146514,  0.09567326, -0.20228885,  0.5449315 ,  0.2349275 ,\n",
       "          0.2521576 ,  0.49466312]], dtype=float32),\n",
       " array([ 0.1823251 , -0.17665288,  0.27822772,  0.17434958, -0.12457791,\n",
       "         0.0536014 ,  0.17373677, -0.31374004,  0.08989462,  0.30514815,\n",
       "         0.07640257,  0.42052478], dtype=float32)]"
      ]
     },
     "execution_count": 28,
     "metadata": {},
     "output_type": "execute_result"
    }
   ],
   "source": [
    "model.layers[0].get_weights()"
   ]
  },
  {
   "cell_type": "code",
   "execution_count": 29,
   "id": "e959d9d7",
   "metadata": {
    "execution": {
     "iopub.execute_input": "2025-01-20T13:46:24.660871Z",
     "iopub.status.busy": "2025-01-20T13:46:24.660447Z",
     "iopub.status.idle": "2025-01-20T13:46:24.669984Z",
     "shell.execute_reply": "2025-01-20T13:46:24.668979Z"
    },
    "papermill": {
     "duration": 0.125619,
     "end_time": "2025-01-20T13:46:24.671807",
     "exception": false,
     "start_time": "2025-01-20T13:46:24.546188",
     "status": "completed"
    },
    "tags": []
   },
   "outputs": [
    {
     "data": {
      "text/plain": [
       "[array([[-0.08770185, -0.39755285,  0.50080085,  0.10037628, -0.0372313 ,\n",
       "         -0.6086189 ],\n",
       "        [-0.36339638, -0.90899765,  1.0089025 , -0.03794404,  1.4670345 ,\n",
       "         -1.0877123 ],\n",
       "        [-0.6192271 , -0.08821528,  0.41821784, -0.41651735,  0.20013846,\n",
       "          0.24299873],\n",
       "        [-0.3220257 , -0.19676766,  0.47285447,  0.40976587,  0.14777029,\n",
       "         -0.42668936],\n",
       "        [-0.4978287 , -0.18941893, -0.31340328, -0.07312647,  0.12737842,\n",
       "          0.5470889 ],\n",
       "        [ 0.09496468,  0.27211356, -0.38405082,  0.54876155,  0.20143127,\n",
       "          0.36076686],\n",
       "        [-0.6386782 , -0.16925333,  0.3456422 , -0.07918986, -0.8888701 ,\n",
       "         -0.30352557],\n",
       "        [ 0.38183564, -2.318937  ,  1.9255921 , -0.22507255,  2.2416909 ,\n",
       "         -2.3137834 ],\n",
       "        [-0.18402311,  0.15093464, -0.00965053, -0.02533016, -0.33117503,\n",
       "          0.29192632],\n",
       "        [-0.03693591, -0.6829348 ,  0.54743165,  0.19097067, -0.4256273 ,\n",
       "         -0.73691034],\n",
       "        [-0.17751674,  0.64346725,  0.25638914, -0.5157194 ,  0.26540154,\n",
       "          0.7627329 ],\n",
       "        [-0.09318306,  1.1133178 , -1.672208  , -0.68755054, -0.6042135 ,\n",
       "          1.5141572 ]], dtype=float32),\n",
       " array([-0.02685727,  0.10791263,  0.11360136, -0.01218817,  0.11449911,\n",
       "        -0.03683365], dtype=float32)]"
      ]
     },
     "execution_count": 29,
     "metadata": {},
     "output_type": "execute_result"
    }
   ],
   "source": [
    "model.layers[1].get_weights()"
   ]
  },
  {
   "cell_type": "code",
   "execution_count": 30,
   "id": "df095482",
   "metadata": {
    "execution": {
     "iopub.execute_input": "2025-01-20T13:46:24.779331Z",
     "iopub.status.busy": "2025-01-20T13:46:24.778980Z",
     "iopub.status.idle": "2025-01-20T13:46:25.024731Z",
     "shell.execute_reply": "2025-01-20T13:46:25.023735Z"
    },
    "papermill": {
     "duration": 0.30123,
     "end_time": "2025-01-20T13:46:25.026297",
     "exception": false,
     "start_time": "2025-01-20T13:46:24.725067",
     "status": "completed"
    },
    "tags": []
   },
   "outputs": [
    {
     "name": "stdout",
     "output_type": "stream",
     "text": [
      "\u001b[1m63/63\u001b[0m \u001b[32m━━━━━━━━━━━━━━━━━━━━\u001b[0m\u001b[37m\u001b[0m \u001b[1m0s\u001b[0m 2ms/step\n"
     ]
    },
    {
     "data": {
      "text/plain": [
       "array([[0.20553233],\n",
       "       [0.09724777],\n",
       "       [0.39996204],\n",
       "       ...,\n",
       "       [0.12239742],\n",
       "       [0.16621575],\n",
       "       [0.03189534]], dtype=float32)"
      ]
     },
     "execution_count": 30,
     "metadata": {},
     "output_type": "execute_result"
    }
   ],
   "source": [
    "model.predict(x_test_scaled)"
   ]
  },
  {
   "cell_type": "code",
   "execution_count": 31,
   "id": "f81f7478",
   "metadata": {
    "execution": {
     "iopub.execute_input": "2025-01-20T13:46:25.133082Z",
     "iopub.status.busy": "2025-01-20T13:46:25.132721Z",
     "iopub.status.idle": "2025-01-20T13:46:25.292689Z",
     "shell.execute_reply": "2025-01-20T13:46:25.291387Z"
    },
    "papermill": {
     "duration": 0.215433,
     "end_time": "2025-01-20T13:46:25.294353",
     "exception": false,
     "start_time": "2025-01-20T13:46:25.078920",
     "status": "completed"
    },
    "tags": []
   },
   "outputs": [
    {
     "name": "stdout",
     "output_type": "stream",
     "text": [
      "\u001b[1m63/63\u001b[0m \u001b[32m━━━━━━━━━━━━━━━━━━━━\u001b[0m\u001b[37m\u001b[0m \u001b[1m0s\u001b[0m 1ms/step\n",
      "[[0]\n",
      " [0]\n",
      " [0]\n",
      " ...\n",
      " [0]\n",
      " [0]\n",
      " [0]]\n"
     ]
    }
   ],
   "source": [
    "y_pred = np.where(model.predict(x_test_scaled)>0.5 , 1, 0)\n",
    "print(y_pred)"
   ]
  },
  {
   "cell_type": "code",
   "execution_count": 32,
   "id": "a589b175",
   "metadata": {
    "execution": {
     "iopub.execute_input": "2025-01-20T13:46:25.402148Z",
     "iopub.status.busy": "2025-01-20T13:46:25.401810Z",
     "iopub.status.idle": "2025-01-20T13:46:25.409265Z",
     "shell.execute_reply": "2025-01-20T13:46:25.408256Z"
    },
    "papermill": {
     "duration": 0.062858,
     "end_time": "2025-01-20T13:46:25.410819",
     "exception": false,
     "start_time": "2025-01-20T13:46:25.347961",
     "status": "completed"
    },
    "tags": []
   },
   "outputs": [
    {
     "name": "stdout",
     "output_type": "stream",
     "text": [
      "Accuracy Score:  86.0\n"
     ]
    }
   ],
   "source": [
    "from sklearn.metrics import accuracy_score\n",
    "acc = accuracy_score(y_test, y_pred)*100\n",
    "round_off = np.around(acc)\n",
    "print(\"Accuracy Score: \", round_off)"
   ]
  },
  {
   "cell_type": "code",
   "execution_count": 33,
   "id": "8cc51cee",
   "metadata": {
    "execution": {
     "iopub.execute_input": "2025-01-20T13:46:25.520057Z",
     "iopub.status.busy": "2025-01-20T13:46:25.519660Z",
     "iopub.status.idle": "2025-01-20T13:46:25.695998Z",
     "shell.execute_reply": "2025-01-20T13:46:25.694838Z"
    },
    "papermill": {
     "duration": 0.233212,
     "end_time": "2025-01-20T13:46:25.697670",
     "exception": false,
     "start_time": "2025-01-20T13:46:25.464458",
     "status": "completed"
    },
    "tags": []
   },
   "outputs": [
    {
     "data": {
      "text/plain": [
       "[<matplotlib.lines.Line2D at 0x7cdfc78d79d0>]"
      ]
     },
     "execution_count": 33,
     "metadata": {},
     "output_type": "execute_result"
    },
    {
     "data": {
      "image/png": "[encoded data removed]",
      "text/plain": [
       "<Figure size 640x480 with 1 Axes>"
      ]
     },
     "metadata": {},
     "output_type": "display_data"
    }
   ],
   "source": [
    "plt.plot(hist_obj.history['loss'], color='red')\n",
    "plt.plot(hist_obj.history['val_loss'], color='green')"
   ]
  },
  {
   "cell_type": "code",
   "execution_count": 34,
   "id": "748a7a6f",
   "metadata": {
    "execution": {
     "iopub.execute_input": "2025-01-20T13:46:25.807640Z",
     "iopub.status.busy": "2025-01-20T13:46:25.807232Z",
     "iopub.status.idle": "2025-01-20T13:46:25.990941Z",
     "shell.execute_reply": "2025-01-20T13:46:25.989905Z"
    },
    "papermill": {
     "duration": 0.240244,
     "end_time": "2025-01-20T13:46:25.992582",
     "exception": false,
     "start_time": "2025-01-20T13:46:25.752338",
     "status": "completed"
    },
    "tags": []
   },
   "outputs": [
    {
     "data": {
      "text/plain": [
       "[<matplotlib.lines.Line2D at 0x7cdfc78b2c80>]"
      ]
     },
     "execution_count": 34,
     "metadata": {},
     "output_type": "execute_result"
    },
    {
     "data": {
      "image/png": "[encoded data removed]",
      "text/plain": [
       "<Figure size 640x480 with 1 Axes>"
      ]
     },
     "metadata": {},
     "output_type": "display_data"
    }
   ],
   "source": [
    "plt.plot(hist_obj.history['accuracy'], color='red')\n",
    "plt.plot(hist_obj.history['val_accuracy'], color='green')"
   ]
  },
  {
   "cell_type": "code",
   "execution_count": null,
   "id": "32e62986",
   "metadata": {
    "papermill": {
     "duration": 0.055601,
     "end_time": "2025-01-20T13:46:26.103989",
     "exception": false,
     "start_time": "2025-01-20T13:46:26.048388",
     "status": "completed"
    },
    "tags": []
   },
   "outputs": [],
   "source": []
  }
 ],
 "metadata": {
  "kaggle": {
   "accelerator": "none",
   "dataSources": [
    {
     "datasetId": 869651,
     "sourceId": 1481789,
     "sourceType": "datasetVersion"
    }
   ],
   "dockerImageVersionId": 30839,
   "isGpuEnabled": false,
   "isInternetEnabled": false,
   "language": "python",
   "sourceType": "notebook"
  },
  "kernelspec": {
   "display_name": "Python 3 (ipykernel)",
   "language": "python",
   "name": "python3"
  },
  "language_info": {
   "codemirror_mode": {
    "name": "ipython",
    "version": 3
   },
   "file_extension": ".py",
   "mimetype": "text/x-python",
   "name": "python",
   "nbconvert_exporter": "python",
   "pygments_lexer": "ipython3",
   "version": "3.12.4"
  },
  "papermill": {
   "default_parameters": {},
   "duration": 65.60473,
   "end_time": "2025-01-20T13:46:28.686146",
   "environment_variables": {},
   "exception": null,
   "input_path": "__notebook__.ipynb",
   "output_path": "__notebook__.ipynb",
   "parameters": {},
   "start_time": "2025-01-20T13:45:23.081416",
   "version": "2.6.0"
  }
 },
 "nbformat": 4,
 "nbformat_minor": 5
}
